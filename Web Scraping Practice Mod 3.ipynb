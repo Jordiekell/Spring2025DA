{
 "cells": [
  {
   "cell_type": "markdown",
   "id": "4578a6ea-c53e-40bf-8e82-50cd524a7209",
   "metadata": {},
   "source": [
    "Module 3, Advanced Python.\n",
    "Building a web scraper that pulls data from https://btech-data-analytics.github.io/bridgerland-technical-college/employees_3.html\n",
    "into a pandas datafram for analysis. \n",
    "Below we discover the average employee age and standard deviation. "
   ]
  },
  {
   "cell_type": "code",
   "execution_count": 1,
   "id": "30b69637-1308-40aa-8f8c-a891ae550ee1",
   "metadata": {},
   "outputs": [],
   "source": [
    "#import statements\n",
    "import pandas as pd              # create the table of data\n",
    "import requests                  # fetch the data\n",
    "from bs4 import BeautifulSoup    # parse through so we can move to creating dataframe."
   ]
  },
  {
   "cell_type": "code",
   "execution_count": 6,
   "id": "8e2de61b-a0af-4f5a-9491-b2724b859554",
   "metadata": {},
   "outputs": [],
   "source": [
    "# store the data from the request by naming it, response = ...      No need to keep sending HTTP requests.\n",
    "response = requests.get('https://btech-data-analytics.github.io/bridgerland-technical-college/employees_3.html').text"
   ]
  },
  {
   "cell_type": "code",
   "execution_count": 8,
   "id": "98e975f0-3856-4972-b0e2-35fd9d89c92d",
   "metadata": {},
   "outputs": [],
   "source": [
    "soup = BeautifulSoup(response,'html.parser')"
   ]
  },
  {
   "cell_type": "code",
   "execution_count": 13,
   "id": "af0248dd-aac5-4edc-9420-caddd0eec54c",
   "metadata": {},
   "outputs": [
    {
     "data": {
      "text/plain": [
       "<tr class=\"employee\">\n",
       "<td>101</td>\n",
       "<td>John Doe</td>\n",
       "<td>28</td>\n",
       "</tr>"
      ]
     },
     "execution_count": 13,
     "metadata": {},
     "output_type": "execute_result"
    }
   ],
   "source": [
    "soup.find('table').find_all('tr', class_='employee')[0].find_all('td') #all the data from the FIRST [0] employee."
   ]
  },
  {
   "cell_type": "code",
   "execution_count": 14,
   "id": "e1967a9b-a935-47dd-af21-f7f114ee2db0",
   "metadata": {},
   "outputs": [
    {
     "data": {
      "text/plain": [
       "'John Doe'"
      ]
     },
     "execution_count": 14,
     "metadata": {},
     "output_type": "execute_result"
    }
   ],
   "source": [
    "soup.find('table').find_all('tr', class_='employee')[0].find_all('td')[1].text #first employee, second [1] column. display just the text."
   ]
  },
  {
   "cell_type": "code",
   "execution_count": null,
   "id": "0787f8cc-dbd2-489f-93d9-d519376c28ed",
   "metadata": {},
   "outputs": [],
   "source": [
    "#same concept as above but for ALL employees"
   ]
  },
  {
   "cell_type": "code",
   "execution_count": 21,
   "id": "cfe70a27-3472-4bf7-a651-a369498c7c9d",
   "metadata": {},
   "outputs": [],
   "source": [
    "id = []\n",
    "name = []\n",
    "age = []\n",
    "\n",
    "for employee in soup.find('table').find_all('tr', class_='employee'):\n",
    "    id.append(employee.find_all('td')[0].text) \n",
    "    name.append(employee.find_all('td')[1].text) \n",
    "    age.append(employee.find_all('td')[2].text)"
   ]
  },
  {
   "cell_type": "code",
   "execution_count": 22,
   "id": "1717dcd0-6e22-4614-b8d0-cf6ff6be3eea",
   "metadata": {},
   "outputs": [
    {
     "data": {
      "text/plain": [
       "['28', '32', '24', '29', '35', '27', '31', '33']"
      ]
     },
     "execution_count": 22,
     "metadata": {},
     "output_type": "execute_result"
    }
   ],
   "source": [
    "age"
   ]
  },
  {
   "cell_type": "code",
   "execution_count": 23,
   "id": "08947b0a-d33b-4193-9746-b0c51c4124f3",
   "metadata": {},
   "outputs": [
    {
     "name": "stdout",
     "output_type": "stream",
     "text": [
      "<class 'pandas.core.frame.DataFrame'>\n",
      "RangeIndex: 8 entries, 0 to 7\n",
      "Data columns (total 3 columns):\n",
      " #   Column  Non-Null Count  Dtype \n",
      "---  ------  --------------  ----- \n",
      " 0   id      8 non-null      object\n",
      " 1   name    8 non-null      object\n",
      " 2   age     8 non-null      object\n",
      "dtypes: object(3)\n",
      "memory usage: 324.0+ bytes\n"
     ]
    }
   ],
   "source": [
    "df = pd.DataFrame({\n",
    "    'id' : id,\n",
    "    'name' : name,\n",
    "    'age' : age\n",
    "})\n",
    "\n",
    "df.info()"
   ]
  },
  {
   "cell_type": "code",
   "execution_count": null,
   "id": "c18dd56d-addb-4da8-ba1c-8dbfd793502e",
   "metadata": {},
   "outputs": [],
   "source": [
    "#age is object, need to change datatype to int."
   ]
  },
  {
   "cell_type": "code",
   "execution_count": 25,
   "id": "b0c019c9-59cf-4001-8575-6c82770a07fd",
   "metadata": {},
   "outputs": [],
   "source": [
    "df['age'] = df['age'].astype(int)"
   ]
  },
  {
   "cell_type": "code",
   "execution_count": 26,
   "id": "d2ab4b78-cf17-4b20-a4fe-c40cbdf679a5",
   "metadata": {},
   "outputs": [
    {
     "name": "stdout",
     "output_type": "stream",
     "text": [
      "<class 'pandas.core.frame.DataFrame'>\n",
      "RangeIndex: 8 entries, 0 to 7\n",
      "Data columns (total 3 columns):\n",
      " #   Column  Non-Null Count  Dtype \n",
      "---  ------  --------------  ----- \n",
      " 0   id      8 non-null      object\n",
      " 1   name    8 non-null      object\n",
      " 2   age     8 non-null      int64 \n",
      "dtypes: int64(1), object(2)\n",
      "memory usage: 324.0+ bytes\n"
     ]
    }
   ],
   "source": [
    "df.info()"
   ]
  },
  {
   "cell_type": "code",
   "execution_count": 32,
   "id": "4981768f-0c68-48f8-9a0a-e8f1c7158702",
   "metadata": {},
   "outputs": [
    {
     "data": {
      "text/plain": [
       "np.float64(29.875)"
      ]
     },
     "execution_count": 32,
     "metadata": {},
     "output_type": "execute_result"
    }
   ],
   "source": [
    "#Based on the data set, the average age of employees is 29.875\n",
    "df['age'].mean()"
   ]
  },
  {
   "cell_type": "code",
   "execution_count": 31,
   "id": "dec9e291-cc5e-48d8-9fea-cec0e015333f",
   "metadata": {},
   "outputs": [
    {
     "data": {
      "text/plain": [
       "np.float64(3.56)"
      ]
     },
     "execution_count": 31,
     "metadata": {},
     "output_type": "execute_result"
    }
   ],
   "source": [
    "#What is the standard deviation of employees found at the link above (according to pandas)?\n",
    "df['age'].std().round(2)"
   ]
  },
  {
   "cell_type": "code",
   "execution_count": 33,
   "id": "6afd41eb-6623-4dcf-a2ba-cbdef40d8347",
   "metadata": {},
   "outputs": [
    {
     "data": {
      "text/html": [
       "<div>\n",
       "<style scoped>\n",
       "    .dataframe tbody tr th:only-of-type {\n",
       "        vertical-align: middle;\n",
       "    }\n",
       "\n",
       "    .dataframe tbody tr th {\n",
       "        vertical-align: top;\n",
       "    }\n",
       "\n",
       "    .dataframe thead th {\n",
       "        text-align: right;\n",
       "    }\n",
       "</style>\n",
       "<table border=\"1\" class=\"dataframe\">\n",
       "  <thead>\n",
       "    <tr style=\"text-align: right;\">\n",
       "      <th></th>\n",
       "      <th>id</th>\n",
       "      <th>name</th>\n",
       "      <th>age</th>\n",
       "    </tr>\n",
       "  </thead>\n",
       "  <tbody>\n",
       "    <tr>\n",
       "      <th>0</th>\n",
       "      <td>101</td>\n",
       "      <td>John Doe</td>\n",
       "      <td>28</td>\n",
       "    </tr>\n",
       "    <tr>\n",
       "      <th>1</th>\n",
       "      <td>102</td>\n",
       "      <td>Jane Smith</td>\n",
       "      <td>32</td>\n",
       "    </tr>\n",
       "    <tr>\n",
       "      <th>2</th>\n",
       "      <td>103</td>\n",
       "      <td>Robert Johnson</td>\n",
       "      <td>24</td>\n",
       "    </tr>\n",
       "    <tr>\n",
       "      <th>3</th>\n",
       "      <td>104</td>\n",
       "      <td>Mary Johnson</td>\n",
       "      <td>29</td>\n",
       "    </tr>\n",
       "    <tr>\n",
       "      <th>4</th>\n",
       "      <td>105</td>\n",
       "      <td>Michael Brown</td>\n",
       "      <td>35</td>\n",
       "    </tr>\n",
       "  </tbody>\n",
       "</table>\n",
       "</div>"
      ],
      "text/plain": [
       "    id            name  age\n",
       "0  101        John Doe   28\n",
       "1  102      Jane Smith   32\n",
       "2  103  Robert Johnson   24\n",
       "3  104    Mary Johnson   29\n",
       "4  105   Michael Brown   35"
      ]
     },
     "execution_count": 33,
     "metadata": {},
     "output_type": "execute_result"
    }
   ],
   "source": [
    "df.head()"
   ]
  }
 ],
 "metadata": {
  "kernelspec": {
   "display_name": "Python 3 (ipykernel)",
   "language": "python",
   "name": "python3"
  },
  "language_info": {
   "codemirror_mode": {
    "name": "ipython",
    "version": 3
   },
   "file_extension": ".py",
   "mimetype": "text/x-python",
   "name": "python",
   "nbconvert_exporter": "python",
   "pygments_lexer": "ipython3",
   "version": "3.13.5"
  }
 },
 "nbformat": 4,
 "nbformat_minor": 5
}
