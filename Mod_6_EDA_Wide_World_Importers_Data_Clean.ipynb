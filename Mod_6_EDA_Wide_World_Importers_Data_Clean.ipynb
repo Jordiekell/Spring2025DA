{
  "nbformat": 4,
  "nbformat_minor": 0,
  "metadata": {
    "colab": {
      "provenance": []
    },
    "kernelspec": {
      "name": "python3",
      "display_name": "Python 3"
    },
    "language_info": {
      "name": "python"
    }
  },
  "cells": [
    {
      "cell_type": "markdown",
      "source": [
        "# Exploratory Data Analysis for Wide World Importers\n",
        "\n",
        "## About this analysis\n",
        "Wide World Importers is a fake company that sells a variety of different products such as slippers, coffee mugs, and flash drives. The company has extensive records of invoices that have been created during the past several years from several different programs. Here I will explore the data to determine if there is anything noteworthy that executives should incorporate into their business strategy. The data will eventually be run through a machine learning model and thus cannot contain any null values. There are some holes in the data set that need \"cleaning\".\n",
        "\n",
        "Cleaning will be performed in the following order,\n",
        "- Fix standardization errors, where applicable\n",
        "- Fix business logic errors, where applicable\n",
        "- Impute null values, where possible\n",
        "- Drop columns with many null values, where applicable\n",
        "- Drop rows with null values, where applicable\n",
        "- Drop duplicate rows, where applicable\n",
        "- Identify outliers and fix them as instructed\n",
        "\n",
        "\n",
        "Once cleaning is complete, I will answer:\n",
        "- Which customer has the most invoices?\n",
        "- Which item has the highest total quantity sold?\n",
        "- Which item has generated the most total profit?\n",
        "- Which item do customers purchase the most quantity of, on average?"
      ],
      "metadata": {
        "id": "vOEo0rBDyaZP"
      }
    },
    {
      "cell_type": "code",
      "execution_count": null,
      "metadata": {
        "id": "djfDr6OOxuFR"
      },
      "outputs": [],
      "source": [
        "import pandas as pd\n",
        "df = pd.read_csv('invoices.csv')"
      ]
    },
    {
      "cell_type": "markdown",
      "source": [
        "## Cleaning\n",
        "As described above, cleaning will be performed in the following order:\n",
        "- Fix standardization errors, where applicable\n",
        "- Fix business logic errors, where applicable\n",
        "- Impute null values, where possible\n",
        "- Drop columns with many null values, where applicable\n",
        "- Drop rows with null values, where applicable\n",
        "- Drop duplicate rows, where applicable\n",
        "- Identify outliers and fix them as instructed"
      ],
      "metadata": {
        "id": "0QiJnKieqQvo"
      }
    },
    {
      "cell_type": "code",
      "source": [
        "df.head()"
      ],
      "metadata": {
        "id": "EJs80rv34YB2"
      },
      "execution_count": null,
      "outputs": []
    },
    {
      "cell_type": "code",
      "source": [
        "df.info()"
      ],
      "metadata": {
        "id": "KssHxr44MHWw"
      },
      "execution_count": null,
      "outputs": []
    },
    {
      "cell_type": "code",
      "source": [
        "df.describe()"
      ],
      "metadata": {
        "id": "VVlJtul6Pw11"
      },
      "execution_count": null,
      "outputs": []
    },
    {
      "cell_type": "code",
      "source": [
        "df.shape"
      ],
      "metadata": {
        "id": "mPWOjelRMKK8"
      },
      "execution_count": null,
      "outputs": []
    },
    {
      "cell_type": "markdown",
      "source": [
        "The customer column has a few standardization errors to address."
      ],
      "metadata": {
        "id": "os2pYO8ZQAP0"
      }
    },
    {
      "cell_type": "code",
      "source": [
        "df['Customer'].unique()"
      ],
      "metadata": {
        "id": "e6Bkh3yWQd85"
      },
      "execution_count": null,
      "outputs": []
    },
    {
      "cell_type": "code",
      "source": [
        "df['Customer'].value_counts()"
      ],
      "metadata": {
        "id": "3GkzkFQAMCje"
      },
      "execution_count": null,
      "outputs": []
    },
    {
      "cell_type": "code",
      "source": [
        "df['Customer'] = df['Customer'].replace({\"Terry's Trinket\" : \"Terry's Trinkets\"\n",
        "  , \"Stuf by Stew\" : \"Stuff by Stew\"\n",
        "  , \"stuff by stew\" : \"Stuff by Stew\"})"
      ],
      "metadata": {
        "id": "K2lp3ev5U1gt"
      },
      "execution_count": null,
      "outputs": []
    },
    {
      "cell_type": "code",
      "source": [
        "df['Customer'].value_counts()"
      ],
      "metadata": {
        "id": "SXvVbx-eU1Pi"
      },
      "execution_count": null,
      "outputs": []
    },
    {
      "cell_type": "markdown",
      "source": [
        "There are more null values than not in the LastEditedWhen Column. Because this data is not pertinent to any questions about this analysis, the LastEditedWhen column has been removed."
      ],
      "metadata": {
        "id": "gjQ8Q5OlW6cV"
      }
    },
    {
      "cell_type": "code",
      "source": [
        "df['LastEditedWhen'].isnull().sum()"
      ],
      "metadata": {
        "id": "dheJeFeHPrTK"
      },
      "execution_count": null,
      "outputs": []
    },
    {
      "cell_type": "code",
      "source": [
        "df.drop(columns= ['LastEditedWhen'] , inplace = True)"
      ],
      "metadata": {
        "id": "Tl0Aen6dW3nW"
      },
      "execution_count": null,
      "outputs": []
    },
    {
      "cell_type": "code",
      "source": [
        "df.info()"
      ],
      "metadata": {
        "id": "BnsNSKcMYPB7"
      },
      "execution_count": null,
      "outputs": []
    },
    {
      "cell_type": "code",
      "source": [
        "df['TaxAmount'].isnull().sum()"
      ],
      "metadata": {
        "id": "EHOPT7ODYU6y"
      },
      "execution_count": null,
      "outputs": []
    },
    {
      "cell_type": "code",
      "source": [
        "df['ExtendedPrice'].isnull().sum()"
      ],
      "metadata": {
        "id": "0bX4reiIY5fZ"
      },
      "execution_count": null,
      "outputs": []
    },
    {
      "cell_type": "markdown",
      "source": [
        "Now we can see the TaxAmount column has the most null values(120,925), followed by the Extended Price Column."
      ],
      "metadata": {
        "id": "xQFH7to6drpL"
      }
    },
    {
      "cell_type": "code",
      "source": [
        "df[df['StockItemID'].isnull() & df['Description'].isnull()].shape[0]"
      ],
      "metadata": {
        "id": "k8YF1oRacYCe"
      },
      "execution_count": null,
      "outputs": []
    },
    {
      "cell_type": "code",
      "source": [
        "df.info()"
      ],
      "metadata": {
        "id": "m-0BdSchyIaJ"
      },
      "execution_count": null,
      "outputs": []
    },
    {
      "cell_type": "code",
      "source": [
        "df.dropna(subset = ['StockItemID' , 'Description'] , how='all' , inplace = True)"
      ],
      "metadata": {
        "id": "G19VYRqBxIsx"
      },
      "execution_count": null,
      "outputs": []
    },
    {
      "cell_type": "markdown",
      "source": [
        "There are 461 rows where both the StockItemID and Description have null values. Because we intend to determine answers to questions about specific items and their quanitities, rows without this data won't be very helpful so they have been removed."
      ],
      "metadata": {
        "id": "_PpzUiCvjNKm"
      }
    },
    {
      "cell_type": "code",
      "source": [
        "df.describe()"
      ],
      "metadata": {
        "id": "Am4tT0c5z7qv"
      },
      "execution_count": null,
      "outputs": []
    },
    {
      "cell_type": "code",
      "source": [
        "df.info()"
      ],
      "metadata": {
        "id": "645qi7ad0gXb"
      },
      "execution_count": null,
      "outputs": []
    },
    {
      "cell_type": "code",
      "source": [
        "df[df['TaxRate'] < 0]"
      ],
      "metadata": {
        "id": "WkqAYwCBz0Wf"
      },
      "execution_count": null,
      "outputs": []
    },
    {
      "cell_type": "code",
      "source": [
        "df[df['StockItemID'] == 47.0]"
      ],
      "metadata": {
        "id": "QfmALbNm021P"
      },
      "execution_count": null,
      "outputs": []
    },
    {
      "cell_type": "markdown",
      "source": [
        "We can see there are some negative values in the TaxRate column. With a little detective work, we can see the tax rates for each StockItemID are consistent. Based on this, it is determined the negative values were entered in error. To fix this, negative values will be turned into postive rates."
      ],
      "metadata": {
        "id": "zeZpLxdl1YWl"
      }
    },
    {
      "cell_type": "code",
      "source": [
        "df.loc[df['TaxRate'] < 0 , 'TaxRate'] *= -1"
      ],
      "metadata": {
        "id": "fCBnqawf1Wcs"
      },
      "execution_count": null,
      "outputs": []
    },
    {
      "cell_type": "code",
      "source": [
        "df.describe()"
      ],
      "metadata": {
        "id": "ZlRPAXxx3Otr"
      },
      "execution_count": null,
      "outputs": []
    },
    {
      "cell_type": "code",
      "source": [
        "df['TaxRate'].mean().round(2)"
      ],
      "metadata": {
        "id": "FIcp6QrE3W0s"
      },
      "execution_count": null,
      "outputs": []
    },
    {
      "cell_type": "markdown",
      "source": [
        "With that fixed, it is determined the average TaxRate is 14.98."
      ],
      "metadata": {
        "id": "sHRvpZ-_3rRl"
      }
    },
    {
      "cell_type": "markdown",
      "source": [
        "Impute:\n",
        "While TaxAmount has null values, we know this can be determined using the UnitPrice, Quantity, and TaxRate - they have no null values.\n",
        "UnitPrice, Quantity, and TaxRate are multiplied and then divided by 100 to calculate the TaxAmount and fill null values."
      ],
      "metadata": {
        "id": "DdbcpEm-3zT5"
      }
    },
    {
      "cell_type": "code",
      "source": [
        "df['TaxAmount'] = df['TaxAmount'].fillna((df['UnitPrice'] * df['Quantity'] * df['TaxRate']) / 100 )"
      ],
      "metadata": {
        "id": "EqVKfp8F4Wf_"
      },
      "execution_count": null,
      "outputs": []
    },
    {
      "cell_type": "code",
      "source": [
        "df['TaxAmount'].isnull().sum()"
      ],
      "metadata": {
        "id": "DcSKaJHU5AXP"
      },
      "execution_count": null,
      "outputs": []
    },
    {
      "cell_type": "code",
      "source": [
        "df.describe()"
      ],
      "metadata": {
        "id": "sTcJ4oEy5ivh"
      },
      "execution_count": null,
      "outputs": []
    },
    {
      "cell_type": "code",
      "source": [
        "df.loc[df['TaxAmount'].isna(), 'TaxAmount'] = ( df['UnitPrice'] * df['Quantity'] * df['TaxRate'] / 100 )"
      ],
      "metadata": {
        "id": "RS5rgrg86NKl"
      },
      "execution_count": null,
      "outputs": []
    },
    {
      "cell_type": "code",
      "source": [
        "df['TaxAmount'].mean().round(2)"
      ],
      "metadata": {
        "id": "PTlc3YUq6NHf"
      },
      "execution_count": null,
      "outputs": []
    },
    {
      "cell_type": "markdown",
      "source": [
        "After trying a couple different methods, the Average TaxAmount after removing null values is 112.95."
      ],
      "metadata": {
        "id": "8WVDvON25dtH"
      }
    },
    {
      "cell_type": "markdown",
      "source": [
        "Next, we will also impute data for the ExtendedPrice column using (UnitPrice x Quantity) + TaxAmount."
      ],
      "metadata": {
        "id": "biBz_SdQ7WrV"
      }
    },
    {
      "cell_type": "code",
      "source": [
        "df['ExtendedPrice'] = (df['UnitPrice'] * df['Quantity']) + df['TaxAmount']"
      ],
      "metadata": {
        "id": "JYHs_pVs7KLV"
      },
      "execution_count": null,
      "outputs": []
    },
    {
      "cell_type": "code",
      "source": [
        "df.describe()"
      ],
      "metadata": {
        "id": "Uz78EeGu5Jo0"
      },
      "execution_count": null,
      "outputs": []
    },
    {
      "cell_type": "code",
      "source": [
        "df['ExtendedPrice'].mean().round(2)"
      ],
      "metadata": {
        "id": "rAspRX9hAD04"
      },
      "execution_count": null,
      "outputs": []
    },
    {
      "cell_type": "markdown",
      "source": [
        "Outliers: Observing the Quantity and ExtendedPrice columns, determining the Z-Score:"
      ],
      "metadata": {
        "id": "x4qNWNekBT7N"
      }
    },
    {
      "cell_type": "code",
      "source": [
        "#Quantity Column:\n",
        "\n",
        "AvgQuan = df['Quantity'].mean()\n",
        "StdDevQuan = df['Quantity'].std()"
      ],
      "metadata": {
        "id": "CqdQ3T44BTf4"
      },
      "execution_count": null,
      "outputs": []
    },
    {
      "cell_type": "code",
      "source": [
        "df['Z-ScoreQ'] = (df['Quantity'] - AvgQuan) / StdDevQuan\n",
        "df.head()"
      ],
      "metadata": {
        "id": "baUiSKFTBkpi"
      },
      "execution_count": null,
      "outputs": []
    },
    {
      "cell_type": "code",
      "source": [
        "df.loc[df['Z-ScoreQ'] >= 3]"
      ],
      "metadata": {
        "id": "oCFn0qHxB95d"
      },
      "execution_count": null,
      "outputs": []
    },
    {
      "cell_type": "code",
      "source": [
        "#ExtendedPrice Column\n",
        "AvgExtPrice = df['ExtendedPrice'].mean()\n",
        "StdDevExtPrice = df['ExtendedPrice'].std()"
      ],
      "metadata": {
        "id": "UiXVNFB9FleE"
      },
      "execution_count": null,
      "outputs": []
    },
    {
      "cell_type": "code",
      "source": [
        "df['Z-ScoreExP'] = (df['ExtendedPrice'] - AvgExtPrice) / StdDevExtPrice\n",
        "df.head()"
      ],
      "metadata": {
        "id": "6mrufUVYF1gV"
      },
      "execution_count": null,
      "outputs": []
    },
    {
      "cell_type": "code",
      "source": [
        "df.loc[df['Z-ScoreExP'] >= 3]"
      ],
      "metadata": {
        "id": "JGY9RBaMGEAO"
      },
      "execution_count": null,
      "outputs": []
    },
    {
      "cell_type": "code",
      "source": [
        "df.info()"
      ],
      "metadata": {
        "id": "bXEOiUk0GRsj"
      },
      "execution_count": null,
      "outputs": []
    },
    {
      "cell_type": "markdown",
      "source": [
        "Between Quantity and ExtendedPrice, there are between 4 and 6 thousand outliers. While compared to 230,548 it's not a huge amount, it is worth noting."
      ],
      "metadata": {
        "id": "Bs7vvzRLGgZr"
      }
    },
    {
      "cell_type": "markdown",
      "source": [
        "Next, the data is checked for duplicates in the InvoiceLineID column since these should have unique IDs."
      ],
      "metadata": {
        "id": "ZztKzE6aHQB5"
      }
    },
    {
      "cell_type": "code",
      "source": [
        "df[df['InvoiceLineID'].duplicated()]"
      ],
      "metadata": {
        "id": "2Hh6AjfbHagd"
      },
      "execution_count": null,
      "outputs": []
    },
    {
      "cell_type": "code",
      "source": [
        "df.drop_duplicates(subset = 'InvoiceLineID' , inplace= True)"
      ],
      "metadata": {
        "id": "jHB8qmb-IVet"
      },
      "execution_count": null,
      "outputs": []
    },
    {
      "cell_type": "code",
      "source": [
        "df.info()"
      ],
      "metadata": {
        "id": "87UHSysPIrtJ"
      },
      "execution_count": null,
      "outputs": []
    },
    {
      "cell_type": "markdown",
      "source": [
        "At this point, the data is clear of most nulls - the only null values being in the Description column."
      ],
      "metadata": {
        "id": "W_yCLqivew_x"
      }
    },
    {
      "cell_type": "markdown",
      "source": [
        "\n",
        "## Analysis"
      ],
      "metadata": {
        "id": "cxU9sI8625fr"
      }
    },
    {
      "cell_type": "markdown",
      "source": [
        "*Stuff by Stew* has the most unique invoices at 100,628."
      ],
      "metadata": {
        "id": "CTc7AaYOn68I"
      }
    },
    {
      "cell_type": "code",
      "source": [
        "df['Customer'].value_counts()"
      ],
      "metadata": {
        "id": "1D3EWB0FoL0C"
      },
      "execution_count": null,
      "outputs": []
    },
    {
      "cell_type": "markdown",
      "source": [
        "Looking at the Description and Quantity columns, the *Black and orange fragile despatch tape 48mmx75m* has the highest total quantity sold at 207,108.\n"
      ],
      "metadata": {
        "id": "Kub52wZpe7F3"
      }
    },
    {
      "cell_type": "code",
      "source": [
        "df.groupby('Description')['Quantity'].sum().sort_values(ascending=False).reset_index()"
      ],
      "metadata": {
        "id": "KNpZ4paeefNy"
      },
      "execution_count": null,
      "outputs": []
    },
    {
      "cell_type": "code",
      "source": [
        "df.groupby('Description')['LineProfit'].sum().sort_values(ascending=False).reset_index()"
      ],
      "metadata": {
        "id": "qno6KNaPgldq"
      },
      "execution_count": null,
      "outputs": []
    },
    {
      "cell_type": "markdown",
      "source": [
        "The *20 mm Double sided bubble wrap 50m\t* has generated the most total profit at 5,283,560."
      ],
      "metadata": {
        "id": "2IXnCLpfhT9b"
      }
    },
    {
      "cell_type": "markdown",
      "source": [
        "On average, *Black and orange fragile despatch tape 48mmx75m* is purchased in greatest quantities in a single order; Quantity of 199.53.\n",
        "This was determined using the Quantity and Description columns."
      ],
      "metadata": {
        "id": "xEadp_7Kh8ms"
      }
    },
    {
      "cell_type": "code",
      "source": [
        "itemQuan_per_order = df.groupby(['InvoiceLineID' , 'Description'])['Quantity'].sum().sort_values(ascending=False).reset_index()"
      ],
      "metadata": {
        "id": "S9oWH1V7h527"
      },
      "execution_count": null,
      "outputs": []
    },
    {
      "cell_type": "code",
      "source": [
        "itemQuan_per_order.groupby('Description')['Quantity'].mean().sort_values(ascending=False).round(2).reset_index()"
      ],
      "metadata": {
        "id": "s2gD_7myh5yw"
      },
      "execution_count": null,
      "outputs": []
    },
    {
      "cell_type": "markdown",
      "source": [
        "## Results\n",
        "To summarize, we've answered:\n",
        "- Which customer has the most invoices? *Stuff by Stew* has 100,628 unique invoices.\n",
        "- Which item has the highest total quantity sold? *Black and orange fragile despatch tape 48mmx75m* has the highest total quantity sold at 207,108.\n",
        "- Which item has generated the most total profit? *The *20 mm Double sided bubble wrap 50m* has generated the most total profit at 5,283,560.\n",
        "- Which item do customers purchase the most quantity of, on average? *Black and orange fragile despatch tape 48mmx75m* with an average quantity of 199.53."
      ],
      "metadata": {
        "id": "_HGjlFjSyHt1"
      }
    }
  ]
}