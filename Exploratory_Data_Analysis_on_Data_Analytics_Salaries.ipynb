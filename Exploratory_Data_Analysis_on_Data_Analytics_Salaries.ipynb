{
  "nbformat": 4,
  "nbformat_minor": 0,
  "metadata": {
    "colab": {
      "provenance": []
    },
    "kernelspec": {
      "name": "python3",
      "display_name": "Python 3"
    },
    "language_info": {
      "name": "python"
    }
  },
  "cells": [
    {
      "cell_type": "markdown",
      "source": [
        "# Exploratory Data Analysis on Data Analytics Salaries\n",
        "\n",
        "⌨ Jordan Witzel\n",
        "\n",
        "This analysis explores salaries of data analytics professionals around the world to find patterns in the data. Specifically, the goal is to determine which factors influence pay rates around the world and learn more about what a career path might look like for somebody starting out in Data Analytics.\n",
        "\n",
        "## About the data\n",
        "This data set comes from Kaggle user [randomarnab](https://www.kaggle.com/datasets/arnabchaki/data-science-salaries-2023) and contains information about various roles in data analytics from around the world. The data was gathered in 2023 and contains details about each role's experience level, job title, salary, remote ratio, company location, and company size."
      ],
      "metadata": {
        "id": "yfZYmnUK-nXS"
      }
    },
    {
      "cell_type": "code",
      "execution_count": null,
      "metadata": {
        "id": "_JbG77Cr-hH1"
      },
      "outputs": [],
      "source": [
        "import pandas as pd\n",
        "df = pd.read_csv('/content/data_analytics_salaries.csv')"
      ]
    },
    {
      "cell_type": "markdown",
      "source": [
        "## Analysis\n",
        "The analysis below explores salaries of data analytics professionals. Specifically, it will explore the following different topics:\n",
        "\n",
        "- How does experience level affect salary?\n",
        "- How does experience level affect remote ratio?\n",
        "- Which job titles are the most common in the United States and how does the job title affect salary?\n",
        "- How have salaries changed between 2020 and 2022 for Data Analysts?\n",
        "- Where are most data analytics positions located (according to this data set)? Which countries pay the most?\n",
        "- What percent of employees are based in another country but are paid in USD?\n",
        "\n",
        "One notable aspect of this data set is the presence of both `salary` and `salary_in_usd` columns. The former details the salary for the position in the local currency where the company is based, whereas the latter column standardizes all of the salaries into USD.\n",
        "\n",
        "###### Thus, this analysis will exclusively use the `salary_in_usd` column for comparisons."
      ],
      "metadata": {
        "id": "siXLCBgYWADj"
      }
    },
    {
      "cell_type": "code",
      "source": [
        "df.head()"
      ],
      "metadata": {
        "id": "x1m-EkygUxU3"
      },
      "execution_count": null,
      "outputs": []
    },
    {
      "cell_type": "code",
      "source": [
        "df.info()"
      ],
      "metadata": {
        "id": "rr6FM_VSWDWZ"
      },
      "execution_count": null,
      "outputs": []
    },
    {
      "cell_type": "code",
      "source": [
        "df.describe()"
      ],
      "metadata": {
        "id": "1XPDVVxZayOK"
      },
      "execution_count": null,
      "outputs": []
    },
    {
      "cell_type": "markdown",
      "source": [
        "### How does experience level affect salary?\n",
        "At first glance, experience level appears to be the most influential variable in determining salary for data analytics professionals. This analysis assumes that the experience levels are, in order from least to greatest amount of experience:\n",
        "\n",
        "1. EN - Entry level\n",
        "2. MI - Mid-level\n",
        "3. SE - Senior level\n",
        "4. EX - Executive level\n",
        "\n",
        "According to the output of the code below, average salary tends to increase, as hypothesized, as experience level increases. Please note, these figures may be skewed as part-time salaries are included in the data set. Because part-time workers are more likely to be entry-level and mid-level, the lower salaries of these positions (often due to lower hours worked) should be removed in this part of the analysis."
      ],
      "metadata": {
        "id": "NdengnC1dVP-"
      }
    },
    {
      "cell_type": "code",
      "source": [
        "# Experience Level and Avg Salary\n",
        "df[['experience_level', 'salary_in_usd']].groupby('experience_level').mean().sort_values(by='salary_in_usd').round(2)"
      ],
      "metadata": {
        "id": "jlwALIS5bXhj"
      },
      "execution_count": null,
      "outputs": []
    },
    {
      "cell_type": "markdown",
      "source": [
        "Below is a subset of the data that contains only full-time positions. Recalculating the average salary for each experience level among this new subset brought the average salaries closer together slightly. The change in average salary was minimal."
      ],
      "metadata": {
        "id": "eFk6DGuLlGPQ"
      }
    },
    {
      "cell_type": "code",
      "source": [
        "#FT, Entry-level\n",
        "round(df[(df['employment_type'] == 'FT')& (df['experience_level'] == 'EN')]['salary_in_usd'].mean(),0)"
      ],
      "metadata": {
        "id": "La6mji1SsAZm"
      },
      "execution_count": null,
      "outputs": []
    },
    {
      "cell_type": "markdown",
      "source": [
        "From this analysis, I can conclude that experience is necessary to obtain a higher salary. Salaries vary greatly across different experience levels, inferring that experience level may be very influential when determining salaries."
      ],
      "metadata": {
        "id": "zrCCF-45lgT-"
      }
    },
    {
      "cell_type": "markdown",
      "source": [
        "### How does experience level affect remote ratio?\n",
        "When determining how much employees are allowed to work remotely, its often assumed the higher the experience level, the higher remote to work ratio.\n",
        "\n",
        "However, the code below shows us that Mid-level employees have the lowest remote ratio, currently at 63.8%, and even saw a 6% decrease from 2021 to 2022.\n",
        "\n",
        "Entry, Executive, and Senior levels did have an increase in remote ratio for the year 2022. Executive employees saw the largest increase at about 28%, compared to just 4% for Entry-level employees."
      ],
      "metadata": {
        "id": "O5QnhMvyldET"
      }
    },
    {
      "cell_type": "code",
      "source": [
        "round(df.groupby('experience_level')['remote_ratio'].mean(), 1).sort_values(ascending=False)"
      ],
      "metadata": {
        "id": "4HYC8YvVlBmW"
      },
      "execution_count": null,
      "outputs": []
    },
    {
      "cell_type": "code",
      "source": [
        "#2022 remote increase compared to 2021\n",
        "wy21 = df[df['work_year'] == 2021 ]\n",
        "wy22 = df[df['work_year'] == 2022 ]"
      ],
      "metadata": {
        "id": "j5COafGGxik8"
      },
      "execution_count": null,
      "outputs": []
    },
    {
      "cell_type": "code",
      "source": [
        "print(wy21.groupby('experience_level')['remote_ratio'].mean().round(0))\n",
        "\n",
        "print(wy22.groupby('experience_level')['remote_ratio'].mean().round(0))"
      ],
      "metadata": {
        "id": "Ht1Gkh8Aya9S"
      },
      "execution_count": null,
      "outputs": []
    },
    {
      "cell_type": "markdown",
      "source": [
        "### Which job titles are the most common in the United States and how do they affect salary?\n",
        "\n",
        "In the US, Data Engineer, Data Scientist, and Data Analyst are amongst the most common job titles. These titles account for a wide variety of jobs in data-driven fields but each are distinct roles with varying salaries based on experience and location.\n",
        "\n"
      ],
      "metadata": {
        "id": "OXtrvpR43QIC"
      }
    },
    {
      "cell_type": "code",
      "source": [
        "df[df['company_location'] != 'US']['job_title'].value_counts().head(7)"
      ],
      "metadata": {
        "id": "6QuH1I6r2pCn"
      },
      "execution_count": null,
      "outputs": []
    },
    {
      "cell_type": "markdown",
      "source": [
        "### How have salaries changed between 2020 and 2022 for Data Analysts?\n",
        "In 2020, the average Data Analysts' salary was 45547.29.\n",
        "By 2022, we see a large increase to the average salary, at 100550.74 - over a 55,000 increase."
      ],
      "metadata": {
        "id": "phmwboOc_CRc"
      }
    },
    {
      "cell_type": "code",
      "source": [
        "DA20 = df[(df['job_title'] == 'Data Analyst') & (df['work_year'] == 2020)]['salary_in_usd'].mean().round(2)"
      ],
      "metadata": {
        "id": "2vg6xm0MXdf4"
      },
      "execution_count": null,
      "outputs": []
    },
    {
      "cell_type": "code",
      "source": [
        "DA21 = df[(df['job_title'] == 'Data Analyst') & (df['work_year'] == 2021)]['salary_in_usd'].mean().round(2)"
      ],
      "metadata": {
        "id": "D_7krxcPdg-r"
      },
      "execution_count": null,
      "outputs": []
    },
    {
      "cell_type": "code",
      "source": [
        "DA22 = df[(df['job_title'] == 'Data Analyst') & (df['work_year'] == 2022)]['salary_in_usd'].mean().round(2)"
      ],
      "metadata": {
        "id": "zXG4KcKDYpau"
      },
      "execution_count": null,
      "outputs": []
    },
    {
      "cell_type": "code",
      "source": [
        "print(DA20)\n",
        "print(round(DA21, 1))\n",
        "print(DA22)\n",
        "print(\"salary change (2020 to 2022):\", round(DA22-DA20, 2))"
      ],
      "metadata": {
        "id": "jtZZdvjfZtmy"
      },
      "execution_count": null,
      "outputs": []
    },
    {
      "cell_type": "markdown",
      "source": [
        "#### Additional insights from the data below:\n",
        "- The median salary (USD) for data analysts in the United States is 106260. The average salary for data analysts in the US is 107674.2 pointing to few outliers in the data here.\n",
        "- Standard deviation for salaries (USD) for Machine Learning Engineers in the US is 44,459 so we can assume there is a large range of salaries.\n",
        "- The average salary (USD) for Data Engineers in the US is 139,724.7.\n",
        "\n"
      ],
      "metadata": {
        "id": "nWEB2nByeiX2"
      }
    },
    {
      "cell_type": "code",
      "source": [
        "# median salary (USD) for data analysts in the United States\n",
        "df[(df['job_title'] == 'Data Analyst') & (df['company_location'] == 'US')]['salary_in_usd'].median()"
      ],
      "metadata": {
        "id": "NQDe0Pl86jUc"
      },
      "execution_count": null,
      "outputs": []
    },
    {
      "cell_type": "code",
      "source": [
        "# standard deviation for salaries (USD) for machine learning engineers in the United States\n",
        "\n",
        "round(df[(df['job_title'] == 'Machine Learning Engineer') & (df['company_location'] == 'US')]['salary_in_usd'].std(), 2)"
      ],
      "metadata": {
        "id": "ufi9kFEf8nnt"
      },
      "execution_count": null,
      "outputs": []
    },
    {
      "cell_type": "code",
      "source": [
        "# Average salary (USD) for data engineers in the United States. Rounded to the nearest cent.\n",
        "print(round(df[(df['job_title'] == 'Data Engineer') & (df['company_location'] == 'US')]['salary_in_usd'].mean(), 1))\n",
        "\n",
        "DE_avgSal = round(df[(df['job_title'] == 'Data Engineer') & (df['company_location'] == 'US')]['salary_in_usd'].mean(), 1)"
      ],
      "metadata": {
        "id": "fW_iRUgK9N1z"
      },
      "execution_count": null,
      "outputs": []
    },
    {
      "cell_type": "code",
      "source": [
        "DS_avgSal = round(df[(df['job_title'] == 'Data Scientist') & (df['company_location'] == 'US')]['salary_in_usd'].mean(), 1)\n",
        "print(round(df[(df['job_title'] == 'Data Scientist') & (df['company_location'] == 'US')]['salary_in_usd'].mean(), 1))"
      ],
      "metadata": {
        "id": "Tuf8qsIdqdT6"
      },
      "execution_count": null,
      "outputs": []
    },
    {
      "cell_type": "code",
      "source": [
        "print('Data Engineer and Data Scientist salary difference: $' , DS_avgSal - DE_avgSal)"
      ],
      "metadata": {
        "id": "J42GD9Tvw512"
      },
      "execution_count": null,
      "outputs": []
    },
    {
      "cell_type": "markdown",
      "source": [
        "### According to this data set, the most Data Analyst positions are in the US.\n",
        "\n",
        "There are 71 Data Analyst positions in the US. Much more than any other country and is also the highest paying. CA is the runner-up with 9 Data Analyst positions.\n",
        "\n",
        "If we broaden our job search to any 'Data' position, the US is still a leader with 311 postions but we do see a lot more variety from other locations like 43 positions in GB and 23 in CA."
      ],
      "metadata": {
        "id": "4sk7XAF3BXRD"
      }
    },
    {
      "cell_type": "code",
      "source": [
        "df[df['job_title'] == 'Data Analyst']['company_location'].value_counts()"
      ],
      "metadata": {
        "id": "5DHaVSQ4A9xJ"
      },
      "execution_count": null,
      "outputs": []
    },
    {
      "cell_type": "code",
      "source": [
        "DA = df[df['job_title'] == 'Data Analyst']"
      ],
      "metadata": {
        "id": "RAWSo9qPhOE5"
      },
      "execution_count": null,
      "outputs": []
    },
    {
      "cell_type": "code",
      "source": [
        "DA.groupby('company_location')['salary_in_usd'].mean().sort_values(ascending= False)"
      ],
      "metadata": {
        "id": "8FVHi1bJh_R9"
      },
      "execution_count": null,
      "outputs": []
    },
    {
      "cell_type": "code",
      "source": [
        "# Top 3 countries for number of data positions: US, GB, CA\n",
        "df[df['job_title'].str.contains('Data')]['company_location'].value_counts().head()"
      ],
      "metadata": {
        "id": "SKao4iXranIj"
      },
      "execution_count": null,
      "outputs": []
    },
    {
      "cell_type": "markdown",
      "source": [
        "### What percent of employees are based in another country but are paid in USD?\n",
        "This is a tricky one.\n",
        "\n",
        "Here I've made a filter that pulls only employees that are not the US and whose salary currency is USD. Dividing the number of rows in this dataframe by the number of rows in the original dataframe tells us that 8.24 percent of employees are based in another country and paid in USD.\n",
        "\n",
        "Of these, 30 positions are in CA and 24 are in IN. Salaries are still decent such as an average salary of 71665.5 in CN."
      ],
      "metadata": {
        "id": "Js42Iut5DzQ-"
      }
    },
    {
      "cell_type": "code",
      "source": [
        "df.columns"
      ],
      "metadata": {
        "id": "Z_W5Be8eCYyx"
      },
      "execution_count": null,
      "outputs": []
    },
    {
      "cell_type": "code",
      "source": [
        "df.head()"
      ],
      "metadata": {
        "collapsed": true,
        "id": "lCO8bObADDdA"
      },
      "execution_count": null,
      "outputs": []
    },
    {
      "cell_type": "code",
      "source": [
        "#What percent of employees work in a company that is based in another country but are paid in USD? 8.24%\n",
        "\n",
        "OutsideUSD = df[(df['salary_currency'] == 'USD') & (df['company_location'] != 'US')].sort_values(by='company_location')"
      ],
      "metadata": {
        "id": "UiOC-NBdEWmG"
      },
      "execution_count": null,
      "outputs": []
    },
    {
      "cell_type": "code",
      "source": [
        "OutsideUSD.head()"
      ],
      "metadata": {
        "id": "dUs2xeKiEot9"
      },
      "execution_count": null,
      "outputs": []
    },
    {
      "cell_type": "code",
      "source": [
        "round(len(OutsideUSD) / len(df) * 100, 2)"
      ],
      "metadata": {
        "id": "89LxDvEkEHXY"
      },
      "execution_count": null,
      "outputs": []
    },
    {
      "cell_type": "code",
      "source": [
        "# Which country has 30 job openings available? CA\n",
        "df.company_location.value_counts()\n",
        "df.company_location.value_counts()[df['company_location'].value_counts() == 30]"
      ],
      "metadata": {
        "id": "xOBiYpsEUvBG"
      },
      "execution_count": null,
      "outputs": []
    },
    {
      "cell_type": "code",
      "source": [
        "df[df['company_location'] == 'IN'].shape[0]"
      ],
      "metadata": {
        "id": "vS0DM-DpXWSi"
      },
      "execution_count": null,
      "outputs": []
    },
    {
      "cell_type": "code",
      "source": [
        "#Avg USD salary for people working in China:\n",
        "CN = df[(df['company_location'] == 'CN')]\n",
        "CN['salary_in_usd'].mean()"
      ],
      "metadata": {
        "id": "K6hQoYdqYmS2"
      },
      "execution_count": null,
      "outputs": []
    },
    {
      "cell_type": "code",
      "source": [
        "#US Data Jobs by usd salary\n",
        "df[df['job_title'].str.contains('Data')][['job_title' , 'company_location', 'salary_in_usd']].sort_values(by='salary_in_usd' , ascending= False).head(6)"
      ],
      "metadata": {
        "id": "E02iyKhVcNoW"
      },
      "execution_count": null,
      "outputs": []
    },
    {
      "cell_type": "code",
      "source": [
        "#Data Jobs outside US by usd Salary.\n",
        "OutsideUSD[OutsideUSD['job_title'].str.contains('Data')][['job_title' , 'company_location', 'salary_in_usd']].sort_values(by='salary_in_usd' , ascending= False).head(60)"
      ],
      "metadata": {
        "id": "AU16zbsxgjPc"
      },
      "execution_count": null,
      "outputs": []
    },
    {
      "cell_type": "code",
      "source": [
        "data_jobs= df[df['job_title'].str.contains('Data')]"
      ],
      "metadata": {
        "id": "9fxY-LvgicN-"
      },
      "execution_count": null,
      "outputs": []
    },
    {
      "cell_type": "code",
      "source": [
        "entry_level = data_jobs[data_jobs['experience_level'] == 'EN']\n",
        "\n",
        "entry_level.groupby('company_location').agg(\n",
        "    job_count=('job_title', 'count'),\n",
        "    avg_salary=('salary_in_usd', 'mean')\n",
        ").sort_values(by='job_count', ascending=False)"
      ],
      "metadata": {
        "id": "-_cwVSIuikq4"
      },
      "execution_count": null,
      "outputs": []
    },
    {
      "cell_type": "markdown",
      "source": [
        "## Conclusion\n",
        "With the data above, it's clear that chances for a job in data are better in the US with a drastically higher number of postions and types of positions.\n",
        "Data jobs in the US have an average salary of 142,157 - And when look at just entry-level 'Data' positions, the US has an average salary of 82,309. Pretty decent for starting out. If not the US, CA or GB could also be a great fit based on the data above.  \n",
        "\n",
        "Experience also plays a large role. We can see that with more experience, comes higher salary however, there may be factors to consider such as if you're looking for remote-focused roles, Mid-level experience positions might not fit your needs.\n",
        "\n",
        "Overall, a job in the data-driven world can take you around the globe with a decent salary and a fair range of options and experience levels."
      ],
      "metadata": {
        "id": "TWCvnB1JEaXd"
      }
    }
  ]
}