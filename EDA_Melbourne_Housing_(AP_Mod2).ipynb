{
  "nbformat": 4,
  "nbformat_minor": 0,
  "metadata": {
    "colab": {
      "private_outputs": true,
      "provenance": []
    },
    "kernelspec": {
      "name": "python3",
      "display_name": "Python 3"
    },
    "language_info": {
      "name": "python"
    }
  },
  "cells": [
    {
      "cell_type": "markdown",
      "source": [
        "# Exploratory Data Analysis on Melbourne, Australia Housing\n",
        "\n",
        "## About\n",
        "Melbourne, known for its vibrant cultural scene, diverse population, and beautiful parks, is Australia's second-largest city. It boasts iconic landmarks like Federation Square and the Royal Botanic Gardens - even a thriving coffee culture. Melbourne is a dynamic and cosmopolitan destination, famous for its sports enthusiasm, hosting events like the Australian Open and Melbourne Cup.\n",
        "\n",
        "Recently, the housing market in Melbourne has seen explosive growth. Here, we will conduct an exploratory data analysis to analyze trends in the housing market and try to determine trends that might be useful to investors.\n",
        "\n",
        "Using 'housing.csv' from [Bridgerland Technical College](https://btech.instructure.com/courses/591571/quizzes/1577018/take)."
      ],
      "metadata": {
        "id": "vOEo0rBDyaZP"
      }
    },
    {
      "cell_type": "markdown",
      "source": [
        "## Overview\n",
        "In this analysis, we will uncover:\n",
        "\n",
        "- Landsize vs price increases\n",
        "- Average property price over year\n",
        "- Which regions have the highest pricing\n",
        "- Which region has built property over the longest span of years\n",
        "- Which region has decreased growth since 2000\n",
        "- and more!"
      ],
      "metadata": {
        "id": "0QiJnKieqQvo"
      }
    },
    {
      "cell_type": "code",
      "execution_count": null,
      "metadata": {
        "id": "djfDr6OOxuFR"
      },
      "outputs": [],
      "source": [
        "# import statements\n",
        "import pandas as pd\n",
        "df = pd.read_csv('/content/housing.csv')\n",
        "import matplotlib.pyplot as plt\n",
        "import seaborn as sns"
      ]
    },
    {
      "cell_type": "code",
      "source": [
        "df.info()"
      ],
      "metadata": {
        "id": "EJs80rv34YB2"
      },
      "execution_count": null,
      "outputs": []
    },
    {
      "cell_type": "code",
      "source": [
        "df['YearBuilt'] = df['YearBuilt'].astype(int)"
      ],
      "metadata": {
        "id": "pL1mfPWZi5up"
      },
      "execution_count": null,
      "outputs": []
    },
    {
      "cell_type": "code",
      "source": [
        "# Descriptive statistics\n",
        "df.describe()"
      ],
      "metadata": {
        "id": "XBQKvzLZaZBr"
      },
      "execution_count": null,
      "outputs": []
    },
    {
      "cell_type": "code",
      "source": [
        "df.head()"
      ],
      "metadata": {
        "id": "mRSMALjSYoB3"
      },
      "execution_count": null,
      "outputs": []
    },
    {
      "cell_type": "code",
      "source": [
        "df.columns"
      ],
      "metadata": {
        "id": "tK04y_LvYbL_"
      },
      "execution_count": null,
      "outputs": []
    },
    {
      "cell_type": "code",
      "source": [
        "df['Region'] = df['Regionname']"
      ],
      "metadata": {
        "id": "WUObff83l7vZ"
      },
      "execution_count": null,
      "outputs": []
    },
    {
      "cell_type": "markdown",
      "source": [
        "\n",
        "## Analysis"
      ],
      "metadata": {
        "id": "cxU9sI8625fr"
      }
    },
    {
      "cell_type": "markdown",
      "source": [
        "Scatterplot"
      ],
      "metadata": {
        "id": "B4SmCF2YDA7n"
      }
    },
    {
      "cell_type": "code",
      "source": [
        "#Create a scatter plot that shows land size on the x-axis and price on the y-axis.\n",
        "#Change the color of the points to reflect the type of the property.\n",
        "\n",
        "plt.figure(figsize=(12,7))\n",
        "sns.scatterplot(\n",
        "    x= 'Landsize',\n",
        "    y= 'Price',\n",
        "    data= df,\n",
        "    hue= 'Type',\n",
        "    palette={'house': 'purple', 'unit': 'teal', 'townhouse': 'blue'})\n",
        "plt.title('Landsize vs Price')\n",
        "plt.ylabel(ylabel='Price(thousands)')\n",
        "plt.show()\n",
        "\n"
      ],
      "metadata": {
        "id": "Ebv9Hk0724MB"
      },
      "execution_count": null,
      "outputs": []
    },
    {
      "cell_type": "markdown",
      "source": [
        "In the scatterplot above, we see two distict patterns:\n",
        "\n",
        "1. House properties experience a price increase with a slight increase in land size.\n",
        "2. Unit type properties experience small price increases as land size increases.\n",
        "\n"
      ],
      "metadata": {
        "id": "8SwAkrcEflQ_"
      }
    },
    {
      "cell_type": "markdown",
      "source": [
        "Linechart"
      ],
      "metadata": {
        "id": "zdcudoU7f5xJ"
      }
    },
    {
      "cell_type": "code",
      "source": [
        "# Create a line chart that shows the year built along the x-axis and the average price per year on the y-axis.\n",
        "# Aggregation and groupby will be needed to accomplish this."
      ],
      "metadata": {
        "id": "dEHBHA8ce97L"
      },
      "execution_count": null,
      "outputs": []
    },
    {
      "cell_type": "code",
      "source": [
        "Avg_Price_Year = df.groupby('YearBuilt').agg({'Price' : 'mean'}).reset_index()"
      ],
      "metadata": {
        "id": "XJvaIr-kfh2t"
      },
      "execution_count": null,
      "outputs": []
    },
    {
      "cell_type": "code",
      "source": [
        "plt.figure(figsize=(9, 5))\n",
        "sns.lineplot(x= 'YearBuilt', y= 'Price', data= Avg_Price_Year)\n",
        "plt.title('Average Price by Year Built')\n",
        "plt.ticklabel_format(style='plain', axis='y')\n",
        "plt.show()"
      ],
      "metadata": {
        "id": "oNyRQ1Dkfgkb"
      },
      "execution_count": null,
      "outputs": []
    },
    {
      "cell_type": "markdown",
      "source": [
        "According to the chart above, the average price of properties appears to decrease over time."
      ],
      "metadata": {
        "id": "XdT8i-aMk4tR"
      }
    },
    {
      "cell_type": "markdown",
      "source": [
        "Barchart"
      ],
      "metadata": {
        "id": "d9oVSEFslVS8"
      }
    },
    {
      "cell_type": "code",
      "source": [
        "# Create a bar chart showing the region on the x-axis and the average price of the property on the y-axis.\n",
        "# Aggregation and groupby will be needed."
      ],
      "metadata": {
        "id": "3nDZyARogESa"
      },
      "execution_count": null,
      "outputs": []
    },
    {
      "cell_type": "code",
      "source": [
        "Avg_Property_Price = df.groupby('Region').agg({'Price' : 'mean'}).reset_index()"
      ],
      "metadata": {
        "id": "jAVWPss1lo_q"
      },
      "execution_count": null,
      "outputs": []
    },
    {
      "cell_type": "code",
      "source": [
        "plt.figure(figsize=(9,5))\n",
        "sns.barplot(x= 'Region', y='Price', data= Avg_Property_Price)\n",
        "plt.title('Average Price by Region')\n",
        "plt.ticklabel_format(style='plain', axis='y')\n",
        "plt.xticks(rotation= 45)\n",
        "plt.show()"
      ],
      "metadata": {
        "id": "Nm2HzMt2lpxH"
      },
      "execution_count": null,
      "outputs": []
    },
    {
      "cell_type": "markdown",
      "source": [
        "Looking at the barchart above, it's clear that,  on average, Southern Metropolitan properties are a higher price."
      ],
      "metadata": {
        "id": "ztBa2T4gm5Sh"
      }
    },
    {
      "cell_type": "markdown",
      "source": [
        "Histogram of Property Prices"
      ],
      "metadata": {
        "id": "7k8J7CU3oHfu"
      }
    },
    {
      "cell_type": "code",
      "source": [
        "plt.figure(figsize=(7,4))\n",
        "sns.histplot(x='Price', data= df, bins= 15)\n",
        "plt.title('Property Prices')\n",
        "plt.ticklabel_format(style='plain', axis='x')\n",
        "plt.show()"
      ],
      "metadata": {
        "id": "1_5OXdkXoFXQ"
      },
      "execution_count": null,
      "outputs": []
    },
    {
      "cell_type": "markdown",
      "source": [
        "Based on the chart above, prices for propoerties appear to be right-skewed."
      ],
      "metadata": {
        "id": "646mwWIbpojs"
      }
    },
    {
      "cell_type": "markdown",
      "source": [
        "Boxplot"
      ],
      "metadata": {
        "id": "MnDJ5Swkp24m"
      }
    },
    {
      "cell_type": "code",
      "source": [
        "# Boxplot showing the years a property was built on the x-axis and the region on the y-axis.\n",
        "# These boxplots should be horizontally oriented.\n",
        "plt.figure(figsize=(8,4))\n",
        "sns.boxplot(x='YearBuilt', y='Region', data= df)\n",
        "plt.title('Year Built v Region')\n",
        "plt.show()"
      ],
      "metadata": {
        "id": "o-ERQU8toFI9"
      },
      "execution_count": null,
      "outputs": []
    },
    {
      "cell_type": "markdown",
      "source": [
        "According to the box plot above, the region of Northern Metropolitan has properties built in the widest range of time.\n",
        "\n",
        "The region of Western Victoria is the only region that has very few properties listed that were built after the year 2000.\n"
      ],
      "metadata": {
        "id": "62zoxmCIrbat"
      }
    },
    {
      "cell_type": "markdown",
      "source": [
        "## In closing...\n",
        "\n",
        "In the analysis of this data set, we've discovered how landsize, property type, and region plays into the price of each property. We've determined which regions have consistent new-builds and in which have steadily declined. We were also able to explore the average propery price over year.\n",
        "\n",
        "At this time, all of our questions have been answered.\n",
        "And based off of this analysis, if you're looking for an old-build, at a \"reasonable\" cost, with decent landsize, I'd recommend starting your search by looking for Units in Western Victoria, Australia."
      ],
      "metadata": {
        "id": "_HGjlFjSyHt1"
      }
    }
  ]
}