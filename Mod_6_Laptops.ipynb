{
  "nbformat": 4,
  "nbformat_minor": 0,
  "metadata": {
    "colab": {
      "provenance": []
    },
    "kernelspec": {
      "name": "python3",
      "display_name": "Python 3"
    },
    "language_info": {
      "name": "python"
    }
  },
  "cells": [
    {
      "cell_type": "markdown",
      "source": [
        "# Laptops Data Prep for *Top Tech*\n",
        "\n",
        "## About\n",
        "*Top Tech* laptop data including kinds of laptops and company sells,  provided by the IT manager. Data was input by hand so the file needs to be cleaned and prepared to be run through a machine learning algorithms.\n",
        "\n",
        "\n",
        "In this analysis/cleaning we:\n",
        "- Address null values\n",
        "- Discover and drop duplicates\n",
        "- Determine average amount of primary storage\n",
        "- Standardize Company names\n",
        "- Find Outliers\n",
        "- and more!"
      ],
      "metadata": {
        "id": "vOEo0rBDyaZP"
      }
    },
    {
      "cell_type": "code",
      "execution_count": null,
      "metadata": {
        "id": "djfDr6OOxuFR"
      },
      "outputs": [],
      "source": [
        "import pandas as pd\n",
        "df = pd.read_csv('laptops.csv')"
      ]
    },
    {
      "cell_type": "code",
      "source": [
        "df.info()"
      ],
      "metadata": {
        "id": "XVRdvC0v6s-G"
      },
      "execution_count": null,
      "outputs": []
    },
    {
      "cell_type": "markdown",
      "source": [
        "Dropping all rows from the data set if they contain a null value in at least one column:"
      ],
      "metadata": {
        "id": "xQFH7to6drpL"
      }
    },
    {
      "cell_type": "code",
      "source": [
        "df.dropna()"
      ],
      "metadata": {
        "id": "LrtnNGMEaNWR"
      },
      "execution_count": null,
      "outputs": []
    },
    {
      "cell_type": "code",
      "source": [
        "#Reimport data:\n",
        "import pandas as pd\n",
        "df = pd.read_csv('laptops.csv')"
      ],
      "metadata": {
        "id": "xhlajeNi7_ph"
      },
      "execution_count": null,
      "outputs": []
    },
    {
      "cell_type": "code",
      "source": [
        "df.info()"
      ],
      "metadata": {
        "id": "-awmyOp88M3E"
      },
      "execution_count": null,
      "outputs": []
    },
    {
      "cell_type": "markdown",
      "source": [
        "The column \"memory_type\" has the most null values; 932 null values."
      ],
      "metadata": {
        "id": "Cz9OsH1h8YL3"
      }
    },
    {
      "cell_type": "markdown",
      "source": [
        "Descriptive statistics on all numerical columns in the data set:"
      ],
      "metadata": {
        "id": "WUY4f3xd9CLX"
      }
    },
    {
      "cell_type": "code",
      "source": [
        "df.describe()"
      ],
      "metadata": {
        "id": "D3brFejQ8W9-"
      },
      "execution_count": null,
      "outputs": []
    },
    {
      "cell_type": "markdown",
      "source": [
        "Looking at the above data, we see that the minimum primary_storage is -2048 and the minimum price is -1.42790.\n",
        "\n",
        "To fix this, we are changing all of the negative values in the columns identified above to positive values."
      ],
      "metadata": {
        "id": "FPRtQ8l-9mXA"
      }
    },
    {
      "cell_type": "code",
      "source": [
        "df[['primary_storage', 'Price']] = df[['primary_storage', 'Price']].abs()"
      ],
      "metadata": {
        "id": "-gBx2y_F9kMP"
      },
      "execution_count": null,
      "outputs": []
    },
    {
      "cell_type": "code",
      "source": [
        "df.describe()"
      ],
      "metadata": {
        "id": "lZ1pyWkEAIsM"
      },
      "execution_count": null,
      "outputs": []
    },
    {
      "cell_type": "markdown",
      "source": [
        "With that correction, we can now determine the average amount of primary storage in a laptop within the data set: 447.58."
      ],
      "metadata": {
        "id": "Is7_jvPyAlLn"
      }
    },
    {
      "cell_type": "code",
      "source": [
        "df['primary_storage'].mean().round(2)"
      ],
      "metadata": {
        "id": "wEHwjZbYASLe"
      },
      "execution_count": null,
      "outputs": []
    },
    {
      "cell_type": "markdown",
      "source": [
        "We are also able to determine the average price of a laptop: $61,014(non-USD)"
      ],
      "metadata": {
        "id": "tjhbpNQ7BEHm"
      }
    },
    {
      "cell_type": "code",
      "source": [
        "df['Price'].mean().round(2)"
      ],
      "metadata": {
        "id": "dOig2-thBD17"
      },
      "execution_count": null,
      "outputs": []
    },
    {
      "cell_type": "markdown",
      "source": [
        "Next we impute the missing values in the resolution_width column by dividing the total_pixels by the resolution_height. The average resolution width of a laptop is 1071.42."
      ],
      "metadata": {
        "id": "0MxLbP_qHNks"
      }
    },
    {
      "cell_type": "code",
      "source": [
        "df['resolution_width'] = df['resolution_width'].fillna(df['total_pixels'] / df['resolution_height'])"
      ],
      "metadata": {
        "id": "wSxfeoVfYRIS"
      },
      "execution_count": null,
      "outputs": []
    },
    {
      "cell_type": "code",
      "source": [
        "df.info()"
      ],
      "metadata": {
        "id": "ejGodvDCXj00"
      },
      "execution_count": null,
      "outputs": []
    },
    {
      "cell_type": "code",
      "source": [
        "df.describe()"
      ],
      "metadata": {
        "id": "kXMH5I5CY6a-"
      },
      "execution_count": null,
      "outputs": []
    },
    {
      "cell_type": "markdown",
      "source": [
        "As previously noted, the memory_type column has 932 null values. Being that this column has more null values than not and is generally unimportant to this specific analysis, the memory_type column has been removed."
      ],
      "metadata": {
        "id": "eMP8wVLtZOpw"
      }
    },
    {
      "cell_type": "code",
      "source": [
        "df.drop(columns=['memory_type'] , inplace =True)"
      ],
      "metadata": {
        "id": "H63DXXf1Z0u-"
      },
      "execution_count": null,
      "outputs": []
    },
    {
      "cell_type": "code",
      "source": [
        "df.info()"
      ],
      "metadata": {
        "id": "FYdtR_rKaRf2"
      },
      "execution_count": null,
      "outputs": []
    },
    {
      "cell_type": "markdown",
      "source": [
        "Now that the memory_type column won't affect our next steps, we'll try dropping all null values and see there 717 rows remaining."
      ],
      "metadata": {
        "id": "fP5su0nyaim4"
      }
    },
    {
      "cell_type": "code",
      "source": [
        "df.dropna()"
      ],
      "metadata": {
        "id": "s4bK9--JaafG"
      },
      "execution_count": null,
      "outputs": []
    },
    {
      "cell_type": "markdown",
      "source": [
        "The Company column still contains errors such as standardization issues - some comapany names are capitalized sometimes, and othertimes not."
      ],
      "metadata": {
        "id": "etaEt1vbaxNB"
      }
    },
    {
      "cell_type": "code",
      "source": [
        "df['Company'].value_counts()"
      ],
      "metadata": {
        "id": "jqVeSYTQa4BN"
      },
      "execution_count": null,
      "outputs": []
    },
    {
      "cell_type": "code",
      "source": [
        "df['Company'] = df['Company'].str.title()"
      ],
      "metadata": {
        "id": "W1PI6jAyCfjA"
      },
      "execution_count": null,
      "outputs": []
    },
    {
      "cell_type": "code",
      "source": [
        "df['Company'].value_counts()"
      ],
      "metadata": {
        "id": "55Ftn_0tDlFA"
      },
      "execution_count": null,
      "outputs": []
    },
    {
      "cell_type": "markdown",
      "source": [
        "Some laptops have extremely high prices. Using the z-score method with a threshold of 3 to create a filter, we'll determine which laptops are outliers."
      ],
      "metadata": {
        "id": "coyP8hJKEDow"
      }
    },
    {
      "cell_type": "code",
      "source": [
        "AvgPrice = df['Price'].mean()\n",
        "StdDevPrice = df['Price'].std()"
      ],
      "metadata": {
        "id": "i-dy7olwECfG"
      },
      "execution_count": null,
      "outputs": []
    },
    {
      "cell_type": "code",
      "source": [
        "df['Z-Score'] = (df['Price'] - AvgPrice) / StdDevPrice\n",
        "df.head()"
      ],
      "metadata": {
        "id": "cbKOsKpzEv_M"
      },
      "execution_count": null,
      "outputs": []
    },
    {
      "cell_type": "code",
      "source": [
        "df.loc[df['Z-Score'] > 3]"
      ],
      "metadata": {
        "id": "ybNmHr7qGVc9"
      },
      "execution_count": null,
      "outputs": []
    },
    {
      "cell_type": "markdown",
      "source": [
        "Using the above outlier detection method, there are 9 outliers exist in this data set according to Price.\n",
        "Since there aren't many, we are only noting this. However, there's enough data to determine an average, correct price if needed."
      ],
      "metadata": {
        "id": "0Tp3KTQYGtaE"
      }
    },
    {
      "cell_type": "markdown",
      "source": [
        "Dropping duplicates:"
      ],
      "metadata": {
        "id": "AWGKqdebIRFQ"
      }
    },
    {
      "cell_type": "code",
      "source": [
        "df.drop_duplicates(subset = ['Company', 'cpu_name', 'gpu_name', 'total_pixels', 'Ram'], inplace = True)\n",
        "df.shape"
      ],
      "metadata": {
        "id": "YlSM1C0qG32A"
      },
      "execution_count": null,
      "outputs": []
    }
  ]
}