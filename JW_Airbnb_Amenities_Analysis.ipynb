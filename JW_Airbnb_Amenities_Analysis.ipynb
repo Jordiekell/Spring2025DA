{
  "nbformat": 4,
  "nbformat_minor": 0,
  "metadata": {
    "colab": {
      "provenance": []
    },
    "kernelspec": {
      "name": "python3",
      "display_name": "Python 3"
    },
    "language_info": {
      "name": "python"
    }
  },
  "cells": [
    {
      "cell_type": "markdown",
      "source": [
        "# Airbnb Amenities Analysis\n",
        "⌨ Jordan Witzel\n",
        "\n",
        "This analysis explores different amenities offered in Airbnb listings in Salem, Oregon. The objective of this analysis is to determine which amenities in Salem are the most common, and which ones are the least commonly observed.\n",
        "\n",
        "## About the data\n",
        "This data set `airbnb.csv` comes from the Airbnb website and describes about 300 Airbnb listings in the Salem, Oregon area. The data describes aspects of the listings including information about the hosts, listing description, and amenities offered at the facilities.\n",
        "\n",
        "## Analysis\n",
        "The goal of this analysis is to determine which amenities are the most and least common in the Salem, Oregon area. However, because the amenities are stored as lists in a single column of the data set, this information is difficult to analyze without the use of for loops.\n",
        "\n",
        "We'll use nested for loops to count up how many of each amenity exists in Airbnb listings in Salem, Oregon."
      ],
      "metadata": {
        "id": "9TJDGWiG7Vnd"
      }
    },
    {
      "cell_type": "code",
      "source": [
        "import pandas as pd\n",
        "df = pd.read_csv('airbnb.csv')"
      ],
      "metadata": {
        "id": "0DBXfNn5CPNl"
      },
      "execution_count": null,
      "outputs": []
    },
    {
      "cell_type": "code",
      "source": [
        "df.head()"
      ],
      "metadata": {
        "id": "zrKOWKI5DmMO"
      },
      "execution_count": null,
      "outputs": []
    },
    {
      "cell_type": "code",
      "source": [
        "df.info()"
      ],
      "metadata": {
        "id": "W4RrejD6bFV2"
      },
      "execution_count": null,
      "outputs": []
    },
    {
      "cell_type": "code",
      "source": [
        "df.describe()"
      ],
      "metadata": {
        "id": "kT818wh1bH3z"
      },
      "execution_count": null,
      "outputs": []
    },
    {
      "cell_type": "markdown",
      "source": [
        "###Amenities"
      ],
      "metadata": {
        "id": "Um7un83Kbban"
      }
    },
    {
      "cell_type": "markdown",
      "source": [
        "*   There are 301 listings with smoke alarms.\n"
      ],
      "metadata": {
        "id": "v9fT1bVqdZCj"
      }
    },
    {
      "cell_type": "code",
      "source": [
        "#Smoke Alarm Availability\n",
        "SmokeAlarmTrue = df[df['amenities'].str.contains('Smoke alarm', case=False)]\n",
        "SmokeAlarmTrue.shape[0]"
      ],
      "metadata": {
        "id": "VBkS7xAabWd7"
      },
      "execution_count": null,
      "outputs": []
    },
    {
      "cell_type": "markdown",
      "source": [
        "* 295 of the listings have WiFi"
      ],
      "metadata": {
        "id": "bIzRYqCtdtpB"
      }
    },
    {
      "cell_type": "code",
      "source": [
        "#WiFi Availability\n",
        "WiFiTrue = df[df['amenities'].str.contains('Wifi', case=False)]\n",
        "WiFiTrue.shape[0]"
      ],
      "metadata": {
        "id": "hArTuqGMdn5E"
      },
      "execution_count": null,
      "outputs": []
    },
    {
      "cell_type": "markdown",
      "source": [
        "* Carbon monoxide alarms, Smoke alarms, and Kitchens were the top 3 ammenities with over 270 listings.\n"
      ],
      "metadata": {
        "id": "zAcrWyz7eQs5"
      }
    },
    {
      "cell_type": "code",
      "source": [
        "#3 most common amenities\n",
        "\n",
        "for i, row in df.iterrows():\n",
        "  for TopAmenities in eval(row['amenities']):\n",
        "    print(TopAmenities)"
      ],
      "metadata": {
        "collapsed": true,
        "id": "2ZhlwhnveRK2"
      },
      "execution_count": null,
      "outputs": []
    },
    {
      "cell_type": "code",
      "source": [
        "counter = {}\n",
        "\n",
        "for i, row in df.iterrows():\n",
        "    for Amenity in eval(row['amenities']):\n",
        "        if Amenity in counter:\n",
        "            counter[Amenity] += 1\n",
        "        else:\n",
        "            counter[Amenity] = 1\n",
        "counter"
      ],
      "metadata": {
        "collapsed": true,
        "id": "nplfG_DMfm64"
      },
      "execution_count": null,
      "outputs": []
    },
    {
      "cell_type": "code",
      "source": [
        "for Amenity in counter:\n",
        "    if counter[Amenity] > 270:\n",
        "        print(Amenity, counter[Amenity])"
      ],
      "metadata": {
        "id": "l5qf8vBqg7iB"
      },
      "execution_count": null,
      "outputs": []
    },
    {
      "cell_type": "markdown",
      "source": [
        "## Conclusion\n",
        "While there is a wide range of amenities offered amongst the Airbnb listings, Carbon monoxide and Smoke alarms were the most common, closely followed by a Kitchen."
      ],
      "metadata": {
        "id": "tVW-XqP3FcFx"
      }
    }
  ]
}