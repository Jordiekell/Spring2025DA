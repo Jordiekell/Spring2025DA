{
 "cells": [
  {
   "cell_type": "markdown",
   "id": "27a9d187-5607-4712-9a46-8aac46ad265b",
   "metadata": {},
   "source": [
    "Bob's Bookstore sells books to customers via an online platform. Most books at Bob's are animal themed. \\\n",
    "Information about the store's books can be found on their website, https://btech-data-analytics.github.io/bridgerland-technical-college/home.html."
   ]
  },
  {
   "cell_type": "markdown",
   "id": "874d50de-0955-4252-b4bd-01ccdee61bae",
   "metadata": {},
   "source": [
    "We've been hired by Bob to perform an analysis on the books sold. \\\n",
    "It's important to note, Bob does not keep Excel or CSV files and instead simply adds and removes titles from the store's webpage as needed."
   ]
  },
  {
   "cell_type": "markdown",
   "id": "65789bab-0ee4-425e-9a0f-6479d574eed0",
   "metadata": {},
   "source": [
    "Below we will create a web scraper to gather the data from the 'bookstore' section of the Bob's Bookstore website into a pandas dataframe. \\\n",
    "Then answer the following questions: \n",
    "* Which author has the most books listed at Bob's Bookstore?\n",
    "* Which is the most popular topic among books at Bob's Bookstore?\n",
    "* Which topic of books is the most expensive, on average?\n",
    "* Which topic of books has the most pages, on average?"
   ]
  },
  {
   "cell_type": "code",
   "execution_count": 2,
   "id": "e659ee7e-699f-4c86-a286-1c51d75ab01f",
   "metadata": {},
   "outputs": [],
   "source": [
    "#import statements\n",
    "import pandas as pd\n",
    "import requests\n",
    "from bs4 import BeautifulSoup"
   ]
  },
  {
   "cell_type": "code",
   "execution_count": 58,
   "id": "6f061999-0790-4cb4-aaca-eaff5213658a",
   "metadata": {},
   "outputs": [],
   "source": [
    "response = requests.get('https://btech-data-analytics.github.io/bridgerland-technical-college/bookstore.html').text"
   ]
  },
  {
   "cell_type": "code",
   "execution_count": 59,
   "id": "76a21145-b037-497e-8a46-61b6405d51c3",
   "metadata": {},
   "outputs": [],
   "source": [
    "soup = BeautifulSoup(response,'html.parser')"
   ]
  },
  {
   "cell_type": "code",
   "execution_count": 60,
   "id": "29d2999c-d6fa-4225-b57b-3475796cbf1d",
   "metadata": {},
   "outputs": [
    {
     "data": {
      "text/plain": [
       "<html lang=\"en\">\n",
       "<head>\n",
       "<meta charset=\"utf-8\"/>\n",
       "<meta content=\"width=device-width, initial-scale=1.0\" name=\"viewport\"/>\n",
       "<link href=\"https://www.w3schools.com/w3css/4/w3.css\" rel=\"stylesheet\"/>\n",
       "<link href=\"style.css\" rel=\"stylesheet\"/>\n",
       "<title>Bob's Bookstore</title>\n",
       "</head>\n",
       "<body>\n",
       "<div class=\"w3-bar w3-blue-grey w3-large\" style=\"padding: 0rem 8rem 0rem 8rem\">\n",
       "<a href=\"/bridgerland-technical-college/home.html\"><img class=\"\" src=\"bobs_bookstore_white.png\" style=\"max-height: 2.8rem;\"/></a>\n",
       "<a class=\"w3-bar-item w3-button w3-right\" href=\"/bridgerland-technical-college/bookstore.html\">Store</a>\n",
       "<a class=\"w3-bar-item w3-button w3-right\" href=\"/bridgerland-technical-college/contact.html\">Contact</a>\n",
       "<a class=\"w3-bar-item w3-button w3-right\" href=\"/bridgerland-technical-college/about.html\">About</a>\n",
       "</div>\n",
       "<div class=\"w3-container\" style=\"max-width: 1000px;margin: auto;\">\n",
       "<h1>Books for Sale</h1>\n",
       "<table class=\"w3-table-all w3-hoverable w3-small\">\n",
       "<thead>\n",
       "<tr>\n",
       "<th>ISBN</th>\n",
       "<th>Title</th>\n",
       "<th>Author</th>\n",
       "<th>Language</th>\n",
       "<th>Pages</th>\n",
       "<th>Topic</th>\n",
       "<th>Price</th>\n",
       "<th></th>\n",
       "</tr>\n",
       "</thead>\n",
       "<tr class=\"book\">\n",
       "<td>978-1234567890</td>\n",
       "<td>Whiskers of Wisdom: Tales from Feline Philosophers</td>\n",
       "<td>Penelope Wainwright</td>\n",
       "<td>English</td>\n",
       "<td>256</td>\n",
       "<td>Cats</td>\n",
       "<td>$19.99</td>\n",
       "<td><button>Buy now</button></td>\n",
       "</tr>\n",
       "<tr class=\"book\">\n",
       "<td>978-2345678901</td>\n",
       "<td>Purrfectly Pawesome: A Cat's Life</td>\n",
       "<td>Jasper Sterling</td>\n",
       "<td>English</td>\n",
       "<td>192</td>\n",
       "<td>Cats</td>\n",
       "<td>$15.99</td>\n",
       "<td><button>Buy now</button></td>\n",
       "</tr>\n",
       "<tr class=\"book\">\n",
       "<td>978-3456789012</td>\n",
       "<td>Cat Tales: Adventures in Whiskerland</td>\n",
       "<td>Penelope Wainwright</td>\n",
       "<td>English</td>\n",
       "<td>320</td>\n",
       "<td>Cats</td>\n",
       "<td>$21.99</td>\n",
       "<td><button>Buy now</button></td>\n",
       "</tr>\n",
       "<tr class=\"book\">\n",
       "<td>978-4567890123</td>\n",
       "<td>The Enigmatic Paws: Mysteries of Meowville</td>\n",
       "<td>Maximilian Thorne</td>\n",
       "<td>English</td>\n",
       "<td>288</td>\n",
       "<td>Cats</td>\n",
       "<td>$17.99</td>\n",
       "<td><button>Buy now</button></td>\n",
       "</tr>\n",
       "<tr class=\"book\">\n",
       "<td>978-5678901234</td>\n",
       "<td>Cats in Wonderland</td>\n",
       "<td>Isadora Harrington</td>\n",
       "<td>English</td>\n",
       "<td>224</td>\n",
       "<td>Cats</td>\n",
       "<td>$16.99</td>\n",
       "<td><button>Buy now</button></td>\n",
       "</tr>\n",
       "<tr class=\"book\">\n",
       "<td>978-6789012345</td>\n",
       "<td>Whisker Wisdom: Life Lessons from Feline Sages</td>\n",
       "<td>Penelope Wainwright</td>\n",
       "<td>English</td>\n",
       "<td>288</td>\n",
       "<td>Cats</td>\n",
       "<td>$20.99</td>\n",
       "<td><button>Buy now</button></td>\n",
       "</tr>\n",
       "<tr class=\"book\">\n",
       "<td>978-7890123456</td>\n",
       "<td>Catnip Chronicles: A Purrfect Journey</td>\n",
       "<td>Jasper Sterling</td>\n",
       "<td>English</td>\n",
       "<td>192</td>\n",
       "<td>Cats</td>\n",
       "<td>$14.99</td>\n",
       "<td><button>Buy now</button></td>\n",
       "</tr>\n",
       "<tr class=\"book\">\n",
       "<td>978-8901234567</td>\n",
       "<td>Cat-astrophe: Tales of Misadventures</td>\n",
       "<td>Celeste Nightshade</td>\n",
       "<td>English</td>\n",
       "<td>240</td>\n",
       "<td>Cats</td>\n",
       "<td>$18.99</td>\n",
       "<td><button>Buy now</button></td>\n",
       "</tr>\n",
       "<tr class=\"book\">\n",
       "<td>978-9012345678</td>\n",
       "<td>The Cat's Whisker: A Feline Fantasy</td>\n",
       "<td>Penelope Wainwright</td>\n",
       "<td>English</td>\n",
       "<td>208</td>\n",
       "<td>Cats</td>\n",
       "<td>$16.99</td>\n",
       "<td><button>Buy now</button></td>\n",
       "</tr>\n",
       "<tr class=\"book\">\n",
       "<td>978-0123456789</td>\n",
       "<td>Fur and Friendship: Stories of Feline Companions</td>\n",
       "<td>Seraphina Montague</td>\n",
       "<td>English</td>\n",
       "<td>176</td>\n",
       "<td>Cats</td>\n",
       "<td>$12.99</td>\n",
       "<td><button>Buy now</button></td>\n",
       "</tr>\n",
       "<tr class=\"book\">\n",
       "<td>978-1234567890</td>\n",
       "<td>Tails of Loyalty: Canine Chronicles</td>\n",
       "<td>Benjamin Barkley</td>\n",
       "<td>English</td>\n",
       "<td>256</td>\n",
       "<td>Dogs</td>\n",
       "<td>$29.99</td>\n",
       "<td><button>Buy now</button></td>\n",
       "</tr>\n",
       "<tr class=\"book\">\n",
       "<td>978-2345678901</td>\n",
       "<td>Pawsitive Adventures: A Dog's Journey</td>\n",
       "<td>Sophie Shepherd</td>\n",
       "<td>English</td>\n",
       "<td>192</td>\n",
       "<td>Dogs</td>\n",
       "<td>$25.99</td>\n",
       "<td><button>Buy now</button></td>\n",
       "</tr>\n",
       "<tr class=\"book\">\n",
       "<td>978-3456789012</td>\n",
       "<td>Barking Wisdom: Lessons from Wise Canines</td>\n",
       "<td>Oliver Obedience</td>\n",
       "<td>English</td>\n",
       "<td>320</td>\n",
       "<td>Dogs</td>\n",
       "<td>$21.99</td>\n",
       "<td><button>Buy now</button></td>\n",
       "</tr>\n",
       "<tr class=\"book\">\n",
       "<td>978-4567890123</td>\n",
       "<td>Dogged Determination: Stories of Resilient Pooches</td>\n",
       "<td>Ruby Ruffington</td>\n",
       "<td>English</td>\n",
       "<td>288</td>\n",
       "<td>Dogs</td>\n",
       "<td>$27.99</td>\n",
       "<td><button>Buy now</button></td>\n",
       "</tr>\n",
       "<tr class=\"book\">\n",
       "<td>978-5678901234</td>\n",
       "<td>The Bark Brigade: Canine Heroes Among Us</td>\n",
       "<td>Benjamin Barkley</td>\n",
       "<td>English</td>\n",
       "<td>224</td>\n",
       "<td>Dogs</td>\n",
       "<td>$26.99</td>\n",
       "<td><button>Buy now</button></td>\n",
       "</tr>\n",
       "</table>\n",
       "</div>\n",
       "<footer class=\"page-footer\">\n",
       "<div class=\"footer-content\">\n",
       "<p>© 2023 Bob's Bookstore</p>\n",
       "<ul class=\"social-icons\">\n",
       "<li><a href=\"#\"><img alt=\"Facebook\" src=\"facebook.png\"/></a></li>\n",
       "<li><a href=\"#\"><img alt=\"Twitter\" src=\"twitter.png\"/></a></li>\n",
       "<li><a href=\"#\"><img alt=\"Instagram\" src=\"instagram.png\"/></a></li>\n",
       "</ul>\n",
       "</div>\n",
       "</footer>\n",
       "</body>\n",
       "</html>"
      ]
     },
     "execution_count": 60,
     "metadata": {},
     "output_type": "execute_result"
    }
   ],
   "source": [
    "soup"
   ]
  },
  {
   "cell_type": "code",
   "execution_count": 69,
   "id": "5eb571af-d462-4693-a926-87687f539918",
   "metadata": {},
   "outputs": [
    {
     "name": "stdout",
     "output_type": "stream",
     "text": [
      "['Whiskers of Wisdom: Tales from Feline Philosophers', \"Purrfectly Pawesome: A Cat's Life\", 'Cat Tales: Adventures in Whiskerland', 'The Enigmatic Paws: Mysteries of Meowville', 'Cats in Wonderland', 'Whisker Wisdom: Life Lessons from Feline Sages', 'Catnip Chronicles: A Purrfect Journey', 'Cat-astrophe: Tales of Misadventures', \"The Cat's Whisker: A Feline Fantasy\", 'Fur and Friendship: Stories of Feline Companions', 'Tails of Loyalty: Canine Chronicles', \"Pawsitive Adventures: A Dog's Journey\", 'Barking Wisdom: Lessons from Wise Canines', 'Dogged Determination: Stories of Resilient Pooches', 'The Bark Brigade: Canine Heroes Among Us']\n"
     ]
    }
   ],
   "source": [
    "book_titles = []\n",
    "\n",
    "book_rows = soup.find_all('tr', class_= 'book')\n",
    "\n",
    "for book in book_rows: \n",
    "    cells = book.find_all('td')\n",
    "    if len(cells) > 1: \n",
    "        title_text = cells[1].text.strip()\n",
    "    book_titles.append(title_text)\n",
    "\n",
    "print(book_titles)"
   ]
  },
  {
   "cell_type": "code",
   "execution_count": 81,
   "id": "9ff09c12-a01d-4008-92bb-06e7ad83ffc1",
   "metadata": {},
   "outputs": [
    {
     "name": "stdout",
     "output_type": "stream",
     "text": [
      "['978-1234567890', '978-2345678901', '978-3456789012', '978-4567890123', '978-5678901234', '978-6789012345', '978-7890123456', '978-8901234567', '978-9012345678', '978-0123456789', '978-1234567890', '978-2345678901', '978-3456789012', '978-4567890123', '978-5678901234']\n",
      "['Whiskers of Wisdom: Tales from Feline Philosophers', \"Purrfectly Pawesome: A Cat's Life\", 'Cat Tales: Adventures in Whiskerland', 'The Enigmatic Paws: Mysteries of Meowville', 'Cats in Wonderland', 'Whisker Wisdom: Life Lessons from Feline Sages', 'Catnip Chronicles: A Purrfect Journey', 'Cat-astrophe: Tales of Misadventures', \"The Cat's Whisker: A Feline Fantasy\", 'Fur and Friendship: Stories of Feline Companions', 'Tails of Loyalty: Canine Chronicles', \"Pawsitive Adventures: A Dog's Journey\", 'Barking Wisdom: Lessons from Wise Canines', 'Dogged Determination: Stories of Resilient Pooches', 'The Bark Brigade: Canine Heroes Among Us']\n",
      "['Penelope Wainwright', 'Jasper Sterling', 'Penelope Wainwright', 'Maximilian Thorne', 'Isadora Harrington', 'Penelope Wainwright', 'Jasper Sterling', 'Celeste Nightshade', 'Penelope Wainwright', 'Seraphina Montague', 'Benjamin Barkley', 'Sophie Shepherd', 'Oliver Obedience', 'Ruby Ruffington', 'Benjamin Barkley']\n",
      "English\n",
      "['256', '192', '320', '288', '224', '288', '192', '240', '208', '176', '256', '192', '320', '288', '224']\n",
      "['Cats', 'Cats', 'Cats', 'Cats', 'Cats', 'Cats', 'Cats', 'Cats', 'Cats', 'Cats', 'Dogs', 'Dogs', 'Dogs', 'Dogs', 'Dogs']\n",
      "['$19.99', '$15.99', '$21.99', '$17.99', '$16.99', '$20.99', '$14.99', '$18.99', '$16.99', '$12.99', '$29.99', '$25.99', '$21.99', '$27.99', '$26.99']\n"
     ]
    }
   ],
   "source": [
    "ISBNs = []\n",
    "book_titles = []\n",
    "authors = []\n",
    "languages = []\n",
    "page_numbers = []\n",
    "topics = []\n",
    "prices = []\n",
    "\n",
    "book_rows = soup.find_all('tr', class_= 'book')\n",
    "\n",
    "for book in book_rows:\n",
    "    cells = book.find_all('td')\n",
    "    if len(cells) >=7:\n",
    "        ISBNs.append(cells[0].text.strip())\n",
    "        book_titles.append(cells[1].text.strip())\n",
    "        authors.append(cells[2].text.strip())\n",
    "        languages.append(cells[3].text.strip())\n",
    "        page_numbers.append(cells[4].text.strip())\n",
    "        topics.append(cells[5].text.strip())\n",
    "        prices.append(cells[6].text.strip())\n",
    "    \n",
    "print(ISBNs)\n",
    "print(book_titles)\n",
    "print(authors)\n",
    "print(language)\n",
    "print(page_numbers)\n",
    "print(topics)\n",
    "print(prices)"
   ]
  },
  {
   "cell_type": "code",
   "execution_count": 98,
   "id": "1b611369-619c-4fbb-a9b1-5a1d9a8d2c56",
   "metadata": {},
   "outputs": [
    {
     "data": {
      "text/html": [
       "<div>\n",
       "<style scoped>\n",
       "    .dataframe tbody tr th:only-of-type {\n",
       "        vertical-align: middle;\n",
       "    }\n",
       "\n",
       "    .dataframe tbody tr th {\n",
       "        vertical-align: top;\n",
       "    }\n",
       "\n",
       "    .dataframe thead th {\n",
       "        text-align: right;\n",
       "    }\n",
       "</style>\n",
       "<table border=\"1\" class=\"dataframe\">\n",
       "  <thead>\n",
       "    <tr style=\"text-align: right;\">\n",
       "      <th></th>\n",
       "      <th>ISBN</th>\n",
       "      <th>Title</th>\n",
       "      <th>Author</th>\n",
       "      <th>Language</th>\n",
       "      <th>Pages</th>\n",
       "      <th>Topics</th>\n",
       "      <th>Price</th>\n",
       "    </tr>\n",
       "  </thead>\n",
       "  <tbody>\n",
       "    <tr>\n",
       "      <th>count</th>\n",
       "      <td>15</td>\n",
       "      <td>15</td>\n",
       "      <td>15</td>\n",
       "      <td>15</td>\n",
       "      <td>15</td>\n",
       "      <td>15</td>\n",
       "      <td>15</td>\n",
       "    </tr>\n",
       "    <tr>\n",
       "      <th>unique</th>\n",
       "      <td>10</td>\n",
       "      <td>15</td>\n",
       "      <td>10</td>\n",
       "      <td>1</td>\n",
       "      <td>8</td>\n",
       "      <td>2</td>\n",
       "      <td>13</td>\n",
       "    </tr>\n",
       "    <tr>\n",
       "      <th>top</th>\n",
       "      <td>978-1234567890</td>\n",
       "      <td>Whiskers of Wisdom: Tales from Feline Philosop...</td>\n",
       "      <td>Penelope Wainwright</td>\n",
       "      <td>English</td>\n",
       "      <td>192</td>\n",
       "      <td>Cats</td>\n",
       "      <td>$21.99</td>\n",
       "    </tr>\n",
       "    <tr>\n",
       "      <th>freq</th>\n",
       "      <td>2</td>\n",
       "      <td>1</td>\n",
       "      <td>4</td>\n",
       "      <td>15</td>\n",
       "      <td>3</td>\n",
       "      <td>10</td>\n",
       "      <td>2</td>\n",
       "    </tr>\n",
       "  </tbody>\n",
       "</table>\n",
       "</div>"
      ],
      "text/plain": [
       "                  ISBN                                              Title  \\\n",
       "count               15                                                 15   \n",
       "unique              10                                                 15   \n",
       "top     978-1234567890  Whiskers of Wisdom: Tales from Feline Philosop...   \n",
       "freq                 2                                                  1   \n",
       "\n",
       "                     Author Language Pages Topics   Price  \n",
       "count                    15       15    15     15      15  \n",
       "unique                   10        1     8      2      13  \n",
       "top     Penelope Wainwright  English   192   Cats  $21.99  \n",
       "freq                      4       15     3     10       2  "
      ]
     },
     "execution_count": 98,
     "metadata": {},
     "output_type": "execute_result"
    }
   ],
   "source": [
    "import pandas as pd\n",
    "df = pd.DataFrame ({\n",
    "    'ISBN' :ISBNs, \n",
    "    'Title' :book_titles,\n",
    "    'Author' :authors,\n",
    "    'Language' :language,\n",
    "    'Pages' :page_numbers,\n",
    "    'Topics' :topics,\n",
    "    'Price':prices\n",
    "})\n",
    "\n",
    "df.describe()"
   ]
  },
  {
   "cell_type": "code",
   "execution_count": 99,
   "id": "e306b2c8-f0fa-48d1-9f03-b1577a92d1f6",
   "metadata": {},
   "outputs": [
    {
     "data": {
      "text/html": [
       "<div>\n",
       "<style scoped>\n",
       "    .dataframe tbody tr th:only-of-type {\n",
       "        vertical-align: middle;\n",
       "    }\n",
       "\n",
       "    .dataframe tbody tr th {\n",
       "        vertical-align: top;\n",
       "    }\n",
       "\n",
       "    .dataframe thead th {\n",
       "        text-align: right;\n",
       "    }\n",
       "</style>\n",
       "<table border=\"1\" class=\"dataframe\">\n",
       "  <thead>\n",
       "    <tr style=\"text-align: right;\">\n",
       "      <th></th>\n",
       "      <th>ISBN</th>\n",
       "      <th>Title</th>\n",
       "      <th>Author</th>\n",
       "      <th>Language</th>\n",
       "      <th>Pages</th>\n",
       "      <th>Topics</th>\n",
       "      <th>Price</th>\n",
       "    </tr>\n",
       "  </thead>\n",
       "  <tbody>\n",
       "    <tr>\n",
       "      <th>0</th>\n",
       "      <td>978-1234567890</td>\n",
       "      <td>Whiskers of Wisdom: Tales from Feline Philosop...</td>\n",
       "      <td>Penelope Wainwright</td>\n",
       "      <td>English</td>\n",
       "      <td>256</td>\n",
       "      <td>Cats</td>\n",
       "      <td>$19.99</td>\n",
       "    </tr>\n",
       "    <tr>\n",
       "      <th>1</th>\n",
       "      <td>978-2345678901</td>\n",
       "      <td>Purrfectly Pawesome: A Cat's Life</td>\n",
       "      <td>Jasper Sterling</td>\n",
       "      <td>English</td>\n",
       "      <td>192</td>\n",
       "      <td>Cats</td>\n",
       "      <td>$15.99</td>\n",
       "    </tr>\n",
       "    <tr>\n",
       "      <th>2</th>\n",
       "      <td>978-3456789012</td>\n",
       "      <td>Cat Tales: Adventures in Whiskerland</td>\n",
       "      <td>Penelope Wainwright</td>\n",
       "      <td>English</td>\n",
       "      <td>320</td>\n",
       "      <td>Cats</td>\n",
       "      <td>$21.99</td>\n",
       "    </tr>\n",
       "    <tr>\n",
       "      <th>3</th>\n",
       "      <td>978-4567890123</td>\n",
       "      <td>The Enigmatic Paws: Mysteries of Meowville</td>\n",
       "      <td>Maximilian Thorne</td>\n",
       "      <td>English</td>\n",
       "      <td>288</td>\n",
       "      <td>Cats</td>\n",
       "      <td>$17.99</td>\n",
       "    </tr>\n",
       "    <tr>\n",
       "      <th>4</th>\n",
       "      <td>978-5678901234</td>\n",
       "      <td>Cats in Wonderland</td>\n",
       "      <td>Isadora Harrington</td>\n",
       "      <td>English</td>\n",
       "      <td>224</td>\n",
       "      <td>Cats</td>\n",
       "      <td>$16.99</td>\n",
       "    </tr>\n",
       "  </tbody>\n",
       "</table>\n",
       "</div>"
      ],
      "text/plain": [
       "             ISBN                                              Title  \\\n",
       "0  978-1234567890  Whiskers of Wisdom: Tales from Feline Philosop...   \n",
       "1  978-2345678901                  Purrfectly Pawesome: A Cat's Life   \n",
       "2  978-3456789012               Cat Tales: Adventures in Whiskerland   \n",
       "3  978-4567890123         The Enigmatic Paws: Mysteries of Meowville   \n",
       "4  978-5678901234                                 Cats in Wonderland   \n",
       "\n",
       "                Author Language Pages Topics   Price  \n",
       "0  Penelope Wainwright  English   256   Cats  $19.99  \n",
       "1      Jasper Sterling  English   192   Cats  $15.99  \n",
       "2  Penelope Wainwright  English   320   Cats  $21.99  \n",
       "3    Maximilian Thorne  English   288   Cats  $17.99  \n",
       "4   Isadora Harrington  English   224   Cats  $16.99  "
      ]
     },
     "execution_count": 99,
     "metadata": {},
     "output_type": "execute_result"
    }
   ],
   "source": [
    "df.head()"
   ]
  },
  {
   "cell_type": "code",
   "execution_count": 100,
   "id": "c20e5499-5214-4b47-8a38-308c86009bad",
   "metadata": {},
   "outputs": [
    {
     "data": {
      "text/plain": [
       "Topics\n",
       "Cats    10\n",
       "Dogs     5\n",
       "Name: count, dtype: int64"
      ]
     },
     "execution_count": 100,
     "metadata": {},
     "output_type": "execute_result"
    }
   ],
   "source": [
    "df['Topics'].value_counts()"
   ]
  },
  {
   "cell_type": "markdown",
   "id": "9fcc529e-fac9-4328-a939-fa8bf7586bc9",
   "metadata": {},
   "source": [
    "Based on the data above, Cats are the most popular topic."
   ]
  },
  {
   "cell_type": "code",
   "execution_count": 101,
   "id": "89739087-a090-4dea-b6b3-1023b43795ba",
   "metadata": {},
   "outputs": [
    {
     "data": {
      "text/plain": [
       "Author\n",
       "Penelope Wainwright    4\n",
       "Jasper Sterling        2\n",
       "Benjamin Barkley       2\n",
       "Maximilian Thorne      1\n",
       "Isadora Harrington     1\n",
       "Celeste Nightshade     1\n",
       "Seraphina Montague     1\n",
       "Sophie Shepherd        1\n",
       "Oliver Obedience       1\n",
       "Ruby Ruffington        1\n",
       "Name: count, dtype: int64"
      ]
     },
     "execution_count": 101,
     "metadata": {},
     "output_type": "execute_result"
    }
   ],
   "source": [
    "df['Author'].value_counts()"
   ]
  },
  {
   "cell_type": "markdown",
   "id": "22fd823a-ccd0-42bb-bae9-247817092e08",
   "metadata": {},
   "source": [
    "Based on the above data, Penelope Wainwright has the most books listed at Bob's Bookstore."
   ]
  },
  {
   "cell_type": "code",
   "execution_count": 102,
   "id": "c4d2c9b6-c7a6-456b-be48-51331edac130",
   "metadata": {},
   "outputs": [
    {
     "name": "stdout",
     "output_type": "stream",
     "text": [
      "<class 'pandas.core.frame.DataFrame'>\n",
      "RangeIndex: 15 entries, 0 to 14\n",
      "Data columns (total 7 columns):\n",
      " #   Column    Non-Null Count  Dtype \n",
      "---  ------    --------------  ----- \n",
      " 0   ISBN      15 non-null     object\n",
      " 1   Title     15 non-null     object\n",
      " 2   Author    15 non-null     object\n",
      " 3   Language  15 non-null     object\n",
      " 4   Pages     15 non-null     object\n",
      " 5   Topics    15 non-null     object\n",
      " 6   Price     15 non-null     object\n",
      "dtypes: object(7)\n",
      "memory usage: 972.0+ bytes\n"
     ]
    }
   ],
   "source": [
    "df.info()"
   ]
  },
  {
   "cell_type": "code",
   "execution_count": 103,
   "id": "d7b178e8-2d3b-4d55-a6c0-4f48ce24b3c7",
   "metadata": {},
   "outputs": [],
   "source": [
    "df['Price'] = df['Price'].str.replace('$', '', regex=False).astype(float)"
   ]
  },
  {
   "cell_type": "code",
   "execution_count": 105,
   "id": "86ca33e3-4ccc-4830-be93-ac1298cfeb13",
   "metadata": {
    "scrolled": true
   },
   "outputs": [
    {
     "data": {
      "text/plain": [
       "Topics\n",
       "Cats    17.79\n",
       "Dogs    26.59\n",
       "Name: Price, dtype: float64"
      ]
     },
     "execution_count": 105,
     "metadata": {},
     "output_type": "execute_result"
    }
   ],
   "source": [
    "df.groupby('Topics')['Price'].mean()"
   ]
  },
  {
   "cell_type": "markdown",
   "id": "875c0558-01aa-49ae-a02f-c1c5480248e2",
   "metadata": {},
   "source": [
    "According to the data above, Books on the topic of dogs are more expensive with an average of 26.59. Compared to the cats average of 17.79"
   ]
  },
  {
   "cell_type": "code",
   "execution_count": 108,
   "id": "49dbb1c1-94d4-45c2-94e6-02d7077d11f8",
   "metadata": {},
   "outputs": [],
   "source": [
    "df['Pages'] = df['Pages'].astype(int)"
   ]
  },
  {
   "cell_type": "code",
   "execution_count": 109,
   "id": "ac890eb9-5413-4594-b839-787cd47a9501",
   "metadata": {},
   "outputs": [
    {
     "data": {
      "text/plain": [
       "Topics\n",
       "Cats    238.4\n",
       "Dogs    256.0\n",
       "Name: Pages, dtype: float64"
      ]
     },
     "execution_count": 109,
     "metadata": {},
     "output_type": "execute_result"
    }
   ],
   "source": [
    "df.groupby('Topics')['Pages'].mean()"
   ]
  },
  {
   "cell_type": "markdown",
   "id": "a8ac5429-d199-4578-be61-0106f9f8edcd",
   "metadata": {},
   "source": [
    "Books on the topic of dogs have more pages; 256 vs 238 (cats)."
   ]
  },
  {
   "cell_type": "code",
   "execution_count": null,
   "id": "c530997d-9313-4492-8491-cf9bc466c8f0",
   "metadata": {},
   "outputs": [],
   "source": []
  },
  {
   "cell_type": "code",
   "execution_count": null,
   "id": "abcc91a1-4787-4348-8d7f-31ad30bdb670",
   "metadata": {},
   "outputs": [],
   "source": []
  },
  {
   "cell_type": "code",
   "execution_count": null,
   "id": "57271386-7fe1-49fd-a735-d4f110cf24eb",
   "metadata": {},
   "outputs": [],
   "source": []
  },
  {
   "cell_type": "code",
   "execution_count": null,
   "id": "fc6803ba-5c80-42df-9b36-d9a9d8be59ac",
   "metadata": {},
   "outputs": [],
   "source": [
    "#Below is data from the Home page instead of the store page. Not used in this analysis but helpful to see the work."
   ]
  },
  {
   "cell_type": "code",
   "execution_count": 56,
   "id": "02954d6e-b108-4390-bc2a-9c7fffd191bb",
   "metadata": {},
   "outputs": [],
   "source": [
    "#create colum to determine most popular topic (extracted from titles)\n",
    "def categories(title):\n",
    "    title = title.lower()\n",
    "    if 'rabbits' in title or 'hop' in title or 'carrot' in title:\n",
    "        return 'Rabbits'\n",
    "    elif 'horses' in title or 'neigh' in title:\n",
    "        return 'Horses'\n",
    "    elif 'cat' in title or 'cats' in title or 'whisker' in title or 'feline' in title: \n",
    "        return 'Cats'\n",
    "    elif 'dog' in title or 'bark' in title or 'woof' in title:\n",
    "        return 'Dogs'\n",
    "    else:\n",
    "        return 'Other'\n",
    "        \n",
    "df['Topic'] = df['Title'].apply(categories)"
   ]
  },
  {
   "cell_type": "code",
   "execution_count": 57,
   "id": "03d0fa91-6f79-4411-b459-a66b252c7cc5",
   "metadata": {},
   "outputs": [
    {
     "data": {
      "text/plain": [
       "Topic\n",
       "Cats     7\n",
       "Other    2\n",
       "Name: count, dtype: int64"
      ]
     },
     "execution_count": 57,
     "metadata": {},
     "output_type": "execute_result"
    }
   ],
   "source": [
    "df['Topic'].value_counts()"
   ]
  },
  {
   "cell_type": "markdown",
   "id": "ce2b2d79-f8b4-4489-8d6c-230644ab9d1f",
   "metadata": {},
   "source": [
    "Based on the data above, Cats are the most popular topic."
   ]
  },
  {
   "cell_type": "code",
   "execution_count": null,
   "id": "cc43940b-1773-4c77-87bd-1ece822dbadf",
   "metadata": {},
   "outputs": [],
   "source": []
  }
 ],
 "metadata": {
  "kernelspec": {
   "display_name": "Python 3 (ipykernel)",
   "language": "python",
   "name": "python3"
  },
  "language_info": {
   "codemirror_mode": {
    "name": "ipython",
    "version": 3
   },
   "file_extension": ".py",
   "mimetype": "text/x-python",
   "name": "python",
   "nbconvert_exporter": "python",
   "pygments_lexer": "ipython3",
   "version": "3.13.5"
  }
 },
 "nbformat": 4,
 "nbformat_minor": 5
}
